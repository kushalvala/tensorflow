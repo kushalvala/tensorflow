{
 "cells": [
  {
   "cell_type": "code",
   "execution_count": 0,
   "metadata": {
    "colab": {},
    "colab_type": "code",
    "id": "AEvqeBcTjbv0"
   },
   "outputs": [],
   "source": [
    "# Importing necessary libraries\n",
    "\n",
    "import tensorflow as tf\n",
    "import os"
   ]
  },
  {
   "cell_type": "code",
   "execution_count": 0,
   "metadata": {
    "colab": {},
    "colab_type": "code",
    "id": "CjDeXMrmjjdX"
   },
   "outputs": [],
   "source": [
    "# Analysis on the number of images in each category \n",
    "\n",
    "train_buildings = os.path.join('/content/seg_train/seg_train/buildings')\n",
    "train_forest = os.path.join('/content/seg_train/seg_train/forest')\n",
    "train_glacier = os.path.join('/content/seg_train/seg_train/glacier')\n",
    "train_mountain =os.path.join('/content/seg_train/seg_train/mountain')\n",
    "train_sea = os.path.join('/content/seg_train/seg_train/sea')\n",
    "train_street = os.path.join('/content/seg_train/seg_train/street')"
   ]
  },
  {
   "cell_type": "code",
   "execution_count": 55,
   "metadata": {
    "colab": {
     "base_uri": "https://localhost:8080/",
     "height": 119
    },
    "colab_type": "code",
    "id": "4RNuEB8KjsH9",
    "outputId": "c4b3161b-6f18-4847-a3cc-8ef5724efb63"
   },
   "outputs": [
    {
     "name": "stdout",
     "output_type": "stream",
     "text": [
      "Total training Buildings detected images: 2191\n",
      "Total training Forest detected images: 2271\n",
      "Total training Glacier detected images: 2404\n",
      "Total training Mountain detected images: 2512\n",
      "Total training Sea detected images: 2274\n",
      "Total training Street detected images: 2382\n"
     ]
    }
   ],
   "source": [
    "print('Total training Buildings detected images:', len(os.listdir(train_buildings)))\n",
    "print('Total training Forest detected images:', len(os.listdir(train_forest)))\n",
    "print('Total training Glacier detected images:', len(os.listdir(train_glacier)))\n",
    "print('Total training Mountain detected images:', len(os.listdir(train_mountain)))\n",
    "print('Total training Sea detected images:', len(os.listdir(train_sea)))\n",
    "print('Total training Street detected images:', len(os.listdir(train_street)))"
   ]
  },
  {
   "cell_type": "markdown",
   "metadata": {
    "colab_type": "text",
    "id": "mrwclANJkYO3"
   },
   "source": [
    "Building Image Generator Object"
   ]
  },
  {
   "cell_type": "code",
   "execution_count": 0,
   "metadata": {
    "colab": {},
    "colab_type": "code",
    "id": "vzvb0OePjv8u"
   },
   "outputs": [],
   "source": [
    "# Image Generator Object allows us to Augument Data making our model better.\n",
    "\n",
    "from tensorflow.keras.preprocessing.image import ImageDataGenerator\n",
    "\n",
    "TRAIN_DIR = '/content/seg_train/seg_train/' \n",
    "VAL_DIR = '/content/seg_pred/seg_pred/'\n",
    "TEST_DIR = '/content/seg_test/seg_test/'\n",
    "\n",
    "# Image Augumentation\n",
    "train_datagen = ImageDataGenerator(\n",
    "      rescale=1./255,\n",
    "      rotation_range=30,\n",
    "      width_shift_range=0.2,\n",
    "      height_shift_range=0.2,\n",
    "      shear_range=0.2,\n",
    "      zoom_range=0.2,\n",
    "      horizontal_flip=True,\n",
    "      fill_mode='nearest'\n",
    ")\n",
    "\n",
    "test_datagen = ImageDataGenerator(\n",
    "    rescale = 1./255\n",
    ")"
   ]
  },
  {
   "cell_type": "code",
   "execution_count": 57,
   "metadata": {
    "colab": {
     "base_uri": "https://localhost:8080/",
     "height": 51
    },
    "colab_type": "code",
    "id": "OzcFYbGejzMR",
    "outputId": "18684d9e-cca8-40f5-84d6-a2d649782ace"
   },
   "outputs": [
    {
     "name": "stdout",
     "output_type": "stream",
     "text": [
      "Found 14034 images belonging to 6 classes.\n",
      "Found 3000 images belonging to 6 classes.\n"
     ]
    }
   ],
   "source": [
    "# Specifying the directory structure to the generator object.\n",
    "\n",
    "train_generator = train_datagen.flow_from_directory(\n",
    "    directory = TRAIN_DIR,\n",
    "    target_size=(150,150),\n",
    "    batch_size = 128,\n",
    "    class_mode = 'categorical'\n",
    ")\n",
    "\n",
    "test_generator = test_datagen.flow_from_directory(\n",
    "    directory = TEST_DIR,\n",
    "    target_size = (150,150),\n",
    "    batch_size = 128,\n",
    "    class_mode = 'categorical'\n",
    ")"
   ]
  },
  {
   "cell_type": "markdown",
   "metadata": {
    "colab_type": "text",
    "id": "XpXo86v9kWU0"
   },
   "source": [
    "VGG-16"
   ]
  },
  {
   "cell_type": "code",
   "execution_count": 0,
   "metadata": {
    "colab": {},
    "colab_type": "code",
    "id": "caVph5_tkStK"
   },
   "outputs": [],
   "source": [
    "def layer(X,f, filters,block):\n",
    "    name_base = 'vgg-16-' + block \n",
    "    F1,F2 = filters\n",
    "    X = tf.keras.layers.Conv2D(filters= F1, kernel_size= (f,f), padding='same', name = name_base +'a', activation= 'relu')(X)\n",
    "    X = tf.keras.layers.Conv2D(filters= F1, kernel_size= (f,f), padding='same', name = name_base +'b', activation= 'relu')(X)\n",
    "    X = tf.keras.layers.MaxPooling2D(pool_size=(2,2), strides= (2,2) , name = name_base + 'maxpool')(X)\n",
    "    return X"
   ]
  },
  {
   "cell_type": "code",
   "execution_count": 0,
   "metadata": {
    "colab": {},
    "colab_type": "code",
    "id": "oSu3GluGrJZN"
   },
   "outputs": [],
   "source": [
    "def layer2(X,f,filters,block):\n",
    "    name_base = 'vgg-16-' + block \n",
    "    F1,F2,F3 = filters\n",
    "    X = tf.keras.layers.Conv2D(filters= F1, kernel_size= (f,f), padding='same', name = name_base +'a', activation= 'relu')(X)      X = tf.keras.layers.Conv2D(filters= F1, kernel_size= (f,f), padding='same', name = name_base +'b', activation= 'relu')(X)\n",
    "    X = tf.keras.layers.Conv2D(filters= F1, kernel_size= (f,f), padding='same', name = name_base +'c', activation= 'relu')(X)\n",
    "    X = tf.keras.layers.MaxPooling2D(pool_size=(2,2), strides= (2,2) , name = name_base + 'maxpool')(X)\n",
    "    return X"
   ]
  },
  {
   "cell_type": "code",
   "execution_count": 0,
   "metadata": {
    "colab": {},
    "colab_type": "code",
    "id": "qK45RQhdrxNp"
   },
   "outputs": [],
   "source": [
    "def VGG16(input_shape = (150,150,3), classes = 6):\n",
    "  X_input = tf.keras.layers.Input(input_shape)\n",
    "\n",
    "  # Stage-1\n",
    "  conv1 = layer(X = X_input,f = 3 , filters = [64,64] , block = '1' )\n",
    "\n",
    "  # Stage-2\n",
    "  conv2 = layer(X = conv1, f = 3 , filters= [128,128] , block = '2')\n",
    "\n",
    "  # Stage-3\n",
    "  conv3 = layer2(X = conv2, f = 3 , filters=[256,256,256] , block = '3')\n",
    "\n",
    "  # Stage-4\n",
    "  conv4 = layer2(X = conv3 , f = 3 , filters=[512,512,512] , block = '4')\n",
    "\n",
    "  # Stage-5\n",
    "  conv5 = layer2(X = conv4, f = 3 , filters=[512,512,512], block = '5')\n",
    "\n",
    "  #Fully Connected Network\n",
    "  X = tf.keras.layers.Flatten()(conv5)\n",
    "  X = tf.keras.layers.Dense(units=4096, activation='relu')(X)\n",
    "  X = tf.keras.layers.Dense(units=4096, activation= 'relu')(X)\n",
    "  X = tf.keras.layers.Dense(units= classes, activation='softmax')(X)\n",
    "\n",
    "  model = tf.keras.Model(inputs = X_input , outputs = X, name = 'VGG-16')\n",
    "\n",
    "  return model"
   ]
  },
  {
   "cell_type": "code",
   "execution_count": 62,
   "metadata": {
    "colab": {
     "base_uri": "https://localhost:8080/",
     "height": 935
    },
    "colab_type": "code",
    "id": "gSEelOPOylfS",
    "outputId": "c517577f-cd4d-4008-a45e-05d2fbb297f9"
   },
   "outputs": [
    {
     "name": "stdout",
     "output_type": "stream",
     "text": [
      "Model: \"VGG-16\"\n",
      "_________________________________________________________________\n",
      "Layer (type)                 Output Shape              Param #   \n",
      "=================================================================\n",
      "input_3 (InputLayer)         [(None, 150, 150, 3)]     0         \n",
      "_________________________________________________________________\n",
      "vgg-16-1a (Conv2D)           (None, 150, 150, 64)      1792      \n",
      "_________________________________________________________________\n",
      "vgg-16-1b (Conv2D)           (None, 150, 150, 64)      36928     \n",
      "_________________________________________________________________\n",
      "vgg-16-1maxpool (MaxPooling2 (None, 75, 75, 64)        0         \n",
      "_________________________________________________________________\n",
      "vgg-16-2a (Conv2D)           (None, 75, 75, 128)       73856     \n",
      "_________________________________________________________________\n",
      "vgg-16-2b (Conv2D)           (None, 75, 75, 128)       147584    \n",
      "_________________________________________________________________\n",
      "vgg-16-2maxpool (MaxPooling2 (None, 37, 37, 128)       0         \n",
      "_________________________________________________________________\n",
      "vgg-16-3a (Conv2D)           (None, 37, 37, 256)       295168    \n",
      "_________________________________________________________________\n",
      "vgg-16-3b (Conv2D)           (None, 37, 37, 256)       590080    \n",
      "_________________________________________________________________\n",
      "vgg-16-3c (Conv2D)           (None, 37, 37, 256)       590080    \n",
      "_________________________________________________________________\n",
      "vgg-16-3maxpool (MaxPooling2 (None, 18, 18, 256)       0         \n",
      "_________________________________________________________________\n",
      "vgg-16-4a (Conv2D)           (None, 18, 18, 512)       1180160   \n",
      "_________________________________________________________________\n",
      "vgg-16-4b (Conv2D)           (None, 18, 18, 512)       2359808   \n",
      "_________________________________________________________________\n",
      "vgg-16-4c (Conv2D)           (None, 18, 18, 512)       2359808   \n",
      "_________________________________________________________________\n",
      "vgg-16-4maxpool (MaxPooling2 (None, 9, 9, 512)         0         \n",
      "_________________________________________________________________\n",
      "vgg-16-5a (Conv2D)           (None, 9, 9, 512)         2359808   \n",
      "_________________________________________________________________\n",
      "vgg-16-5b (Conv2D)           (None, 9, 9, 512)         2359808   \n",
      "_________________________________________________________________\n",
      "vgg-16-5c (Conv2D)           (None, 9, 9, 512)         2359808   \n",
      "_________________________________________________________________\n",
      "vgg-16-5maxpool (MaxPooling2 (None, 4, 4, 512)         0         \n",
      "_________________________________________________________________\n",
      "flatten_1 (Flatten)          (None, 8192)              0         \n",
      "_________________________________________________________________\n",
      "dense_3 (Dense)              (None, 4096)              33558528  \n",
      "_________________________________________________________________\n",
      "dense_4 (Dense)              (None, 4096)              16781312  \n",
      "_________________________________________________________________\n",
      "dense_5 (Dense)              (None, 6)                 24582     \n",
      "=================================================================\n",
      "Total params: 65,079,110\n",
      "Trainable params: 65,079,110\n",
      "Non-trainable params: 0\n",
      "_________________________________________________________________\n"
     ]
    }
   ],
   "source": [
    "model.summary()"
   ]
  },
  {
   "cell_type": "code",
   "execution_count": 0,
   "metadata": {
    "colab": {},
    "colab_type": "code",
    "id": "Xz_JQeN2v5bm"
   },
   "outputs": [],
   "source": [
    "from tensorflow.keras.optimizers import SGD\n",
    "\n",
    "model = VGG16(input_shape=(150,150,3) , classes= 6)\n",
    "\n",
    "model.compile(loss='categorical_crossentropy',\n",
    "              optimizer= SGD(learning_rate=0.01, momentum=0.2),\n",
    "              metrics=['acc'])"
   ]
  },
  {
   "cell_type": "code",
   "execution_count": 65,
   "metadata": {
    "colab": {
     "base_uri": "https://localhost:8080/",
     "height": 1000
    },
    "colab_type": "code",
    "id": "7tpIpEZiwjYq",
    "outputId": "33c2e116-3490-4304-cdcd-acf7104595c7"
   },
   "outputs": [
    {
     "name": "stdout",
     "output_type": "stream",
     "text": [
      "Epoch 1/100\n",
      "29/30 [============================>.] - ETA: 0s - loss: 1.7915 - acc: 0.1899Epoch 1/100\n",
      "30/30 [==============================] - 29s 970ms/step - loss: 1.7915 - acc: 0.1898 - val_loss: 1.7907 - val_acc: 0.1813\n",
      "Epoch 2/100\n",
      "29/30 [============================>.] - ETA: 0s - loss: 1.7904 - acc: 0.1810Epoch 1/100\n",
      "30/30 [==============================] - 26s 864ms/step - loss: 1.7903 - acc: 0.1818 - val_loss: 1.7895 - val_acc: 0.1781\n",
      "Epoch 3/100\n",
      "29/30 [============================>.] - ETA: 0s - loss: 1.7900 - acc: 0.1730Epoch 1/100\n",
      "30/30 [==============================] - 26s 854ms/step - loss: 1.7900 - acc: 0.1745 - val_loss: 1.7889 - val_acc: 0.1813\n",
      "Epoch 4/100\n",
      "29/30 [============================>.] - ETA: 0s - loss: 1.7881 - acc: 0.1883Epoch 1/100\n",
      "30/30 [==============================] - 26s 865ms/step - loss: 1.7880 - acc: 0.1891 - val_loss: 1.7876 - val_acc: 0.1813\n",
      "Epoch 5/100\n",
      "29/30 [============================>.] - ETA: 0s - loss: 1.7869 - acc: 0.1738Epoch 1/100\n",
      "30/30 [==============================] - 26s 860ms/step - loss: 1.7869 - acc: 0.1716 - val_loss: 1.7860 - val_acc: 0.1813\n",
      "Epoch 6/100\n",
      "29/30 [============================>.] - ETA: 0s - loss: 1.7845 - acc: 0.2024Epoch 1/100\n",
      "30/30 [==============================] - 25s 845ms/step - loss: 1.7843 - acc: 0.2032 - val_loss: 1.7832 - val_acc: 0.1828\n",
      "Epoch 7/100\n",
      "29/30 [============================>.] - ETA: 0s - loss: 1.7820 - acc: 0.1872Epoch 1/100\n",
      "30/30 [==============================] - 26s 862ms/step - loss: 1.7821 - acc: 0.1865 - val_loss: 1.7799 - val_acc: 0.1813\n",
      "Epoch 8/100\n",
      "29/30 [============================>.] - ETA: 0s - loss: 1.7776 - acc: 0.2349Epoch 1/100\n",
      "30/30 [==============================] - 26s 879ms/step - loss: 1.7773 - acc: 0.2393 - val_loss: 1.7742 - val_acc: 0.2641\n",
      "Epoch 9/100\n",
      "29/30 [============================>.] - ETA: 0s - loss: 1.7715 - acc: 0.2829Epoch 1/100\n",
      "30/30 [==============================] - 26s 858ms/step - loss: 1.7713 - acc: 0.2828 - val_loss: 1.7665 - val_acc: 0.2781\n",
      "Epoch 10/100\n",
      "29/30 [============================>.] - ETA: 0s - loss: 1.7624 - acc: 0.3028Epoch 1/100\n",
      "30/30 [==============================] - 26s 859ms/step - loss: 1.7623 - acc: 0.3002 - val_loss: 1.7537 - val_acc: 0.3156\n",
      "Epoch 11/100\n",
      "29/30 [============================>.] - ETA: 0s - loss: 1.7463 - acc: 0.3400Epoch 1/100\n",
      "30/30 [==============================] - 26s 866ms/step - loss: 1.7459 - acc: 0.3414 - val_loss: 1.7252 - val_acc: 0.3875\n",
      "Epoch 12/100\n",
      "29/30 [============================>.] - ETA: 0s - loss: 1.7099 - acc: 0.3652Epoch 1/100\n",
      "30/30 [==============================] - 26s 858ms/step - loss: 1.7084 - acc: 0.3669 - val_loss: 1.6712 - val_acc: 0.3703\n",
      "Epoch 13/100\n",
      "29/30 [============================>.] - ETA: 0s - loss: 1.6673 - acc: 0.3411Epoch 1/100\n",
      "30/30 [==============================] - 26s 862ms/step - loss: 1.6677 - acc: 0.3409 - val_loss: 1.5710 - val_acc: 0.4156\n",
      "Epoch 14/100\n",
      "29/30 [============================>.] - ETA: 0s - loss: 1.5943 - acc: 0.3785Epoch 1/100\n",
      "30/30 [==============================] - 26s 864ms/step - loss: 1.5892 - acc: 0.3802 - val_loss: 1.4317 - val_acc: 0.4344\n",
      "Epoch 15/100\n",
      "29/30 [============================>.] - ETA: 0s - loss: 1.5503 - acc: 0.3944Epoch 1/100\n",
      "30/30 [==============================] - 26s 875ms/step - loss: 1.5507 - acc: 0.3927 - val_loss: 1.4967 - val_acc: 0.4000\n",
      "Epoch 16/100\n",
      "29/30 [============================>.] - ETA: 0s - loss: 1.4736 - acc: 0.4266Epoch 1/100\n",
      "30/30 [==============================] - 25s 842ms/step - loss: 1.4797 - acc: 0.4217 - val_loss: 1.4312 - val_acc: 0.4234\n",
      "Epoch 17/100\n",
      "29/30 [============================>.] - ETA: 0s - loss: 1.4360 - acc: 0.4456Epoch 1/100\n",
      "30/30 [==============================] - 26s 864ms/step - loss: 1.4392 - acc: 0.4437 - val_loss: 1.3702 - val_acc: 0.4734\n",
      "Epoch 18/100\n",
      "29/30 [============================>.] - ETA: 0s - loss: 1.4142 - acc: 0.4467Epoch 1/100\n",
      "30/30 [==============================] - 26s 860ms/step - loss: 1.4141 - acc: 0.4453 - val_loss: 1.3096 - val_acc: 0.4906\n",
      "Epoch 19/100\n",
      "29/30 [============================>.] - ETA: 0s - loss: 1.3777 - acc: 0.4566Epoch 1/100\n",
      "30/30 [==============================] - 26s 850ms/step - loss: 1.3852 - acc: 0.4533 - val_loss: 2.0719 - val_acc: 0.3438\n",
      "Epoch 20/100\n",
      "29/30 [============================>.] - ETA: 0s - loss: 1.3808 - acc: 0.4585Epoch 1/100\n",
      "30/30 [==============================] - 26s 869ms/step - loss: 1.3757 - acc: 0.4578 - val_loss: 1.2423 - val_acc: 0.5156\n",
      "Epoch 21/100\n",
      "29/30 [============================>.] - ETA: 0s - loss: 1.3789 - acc: 0.4502Epoch 1/100\n",
      "30/30 [==============================] - 26s 852ms/step - loss: 1.3804 - acc: 0.4500 - val_loss: 1.2920 - val_acc: 0.5359\n",
      "Epoch 22/100\n",
      "29/30 [============================>.] - ETA: 0s - loss: 1.3235 - acc: 0.4887Epoch 1/100\n",
      "30/30 [==============================] - 26s 864ms/step - loss: 1.3285 - acc: 0.4867 - val_loss: 1.3175 - val_acc: 0.5266\n",
      "Epoch 23/100\n",
      "29/30 [============================>.] - ETA: 0s - loss: 1.3117 - acc: 0.4891Epoch 1/100\n",
      "30/30 [==============================] - 26s 850ms/step - loss: 1.3133 - acc: 0.4879 - val_loss: 1.2077 - val_acc: 0.5203\n",
      "Epoch 24/100\n",
      "29/30 [============================>.] - ETA: 0s - loss: 1.2704 - acc: 0.4981Epoch 1/100\n",
      "30/30 [==============================] - 26s 863ms/step - loss: 1.2655 - acc: 0.4992 - val_loss: 1.3901 - val_acc: 0.4891\n",
      "Epoch 25/100\n",
      "29/30 [============================>.] - ETA: 0s - loss: 1.3096 - acc: 0.4916Epoch 1/100\n",
      "30/30 [==============================] - 26s 852ms/step - loss: 1.3101 - acc: 0.4906 - val_loss: 1.0806 - val_acc: 0.5625\n",
      "Epoch 26/100\n",
      "29/30 [============================>.] - ETA: 0s - loss: 1.2475 - acc: 0.4935Epoch 1/100\n",
      "30/30 [==============================] - 26s 862ms/step - loss: 1.2477 - acc: 0.4943 - val_loss: 1.0627 - val_acc: 0.5641\n",
      "Epoch 27/100\n",
      "29/30 [============================>.] - ETA: 0s - loss: 1.2456 - acc: 0.5019Epoch 1/100\n",
      "30/30 [==============================] - 26s 863ms/step - loss: 1.2438 - acc: 0.5021 - val_loss: 1.0324 - val_acc: 0.6016\n",
      "Epoch 28/100\n",
      "29/30 [============================>.] - ETA: 0s - loss: 1.2137 - acc: 0.5199Epoch 1/100\n",
      "30/30 [==============================] - 26s 855ms/step - loss: 1.2128 - acc: 0.5206 - val_loss: 1.0468 - val_acc: 0.5766\n",
      "Epoch 29/100\n",
      "29/30 [============================>.] - ETA: 0s - loss: 1.1697 - acc: 0.5338Epoch 1/100\n",
      "30/30 [==============================] - 26s 850ms/step - loss: 1.1750 - acc: 0.5316 - val_loss: 1.3061 - val_acc: 0.4703\n",
      "Epoch 30/100\n",
      "29/30 [============================>.] - ETA: 0s - loss: 1.1667 - acc: 0.5407Epoch 1/100\n",
      "30/30 [==============================] - 25s 846ms/step - loss: 1.1667 - acc: 0.5388 - val_loss: 1.0992 - val_acc: 0.5641\n",
      "Epoch 31/100\n",
      "29/30 [============================>.] - ETA: 0s - loss: 1.4045 - acc: 0.4456Epoch 1/100\n",
      "30/30 [==============================] - 26s 851ms/step - loss: 1.3958 - acc: 0.4490 - val_loss: 1.1131 - val_acc: 0.5500\n",
      "Epoch 32/100\n",
      "29/30 [============================>.] - ETA: 0s - loss: 1.1876 - acc: 0.5259Epoch 1/100\n",
      "30/30 [==============================] - 26s 858ms/step - loss: 1.1840 - acc: 0.5284 - val_loss: 0.9891 - val_acc: 0.5969\n",
      "Epoch 33/100\n",
      "29/30 [============================>.] - ETA: 0s - loss: 1.1621 - acc: 0.5423Epoch 1/100\n",
      "30/30 [==============================] - 25s 849ms/step - loss: 1.1657 - acc: 0.5406 - val_loss: 1.0605 - val_acc: 0.6047\n",
      "Epoch 34/100\n",
      "29/30 [============================>.] - ETA: 0s - loss: 1.1321 - acc: 0.5450Epoch 1/100\n",
      "30/30 [==============================] - 26s 858ms/step - loss: 1.1310 - acc: 0.5458 - val_loss: 1.0578 - val_acc: 0.5672\n",
      "Epoch 35/100\n",
      "29/30 [============================>.] - ETA: 0s - loss: 1.1151 - acc: 0.5559Epoch 1/100\n",
      "30/30 [==============================] - 25s 836ms/step - loss: 1.1110 - acc: 0.5575 - val_loss: 1.1187 - val_acc: 0.5672\n",
      "Epoch 36/100\n",
      "29/30 [============================>.] - ETA: 0s - loss: 1.1016 - acc: 0.5652Epoch 1/100\n",
      "30/30 [==============================] - 26s 868ms/step - loss: 1.0981 - acc: 0.5674 - val_loss: 1.0712 - val_acc: 0.6031\n",
      "Epoch 37/100\n",
      "29/30 [============================>.] - ETA: 0s - loss: 1.1381 - acc: 0.5434Epoch 1/100\n",
      "30/30 [==============================] - 25s 848ms/step - loss: 1.1403 - acc: 0.5422 - val_loss: 1.0240 - val_acc: 0.6062\n",
      "Epoch 38/100\n",
      "29/30 [============================>.] - ETA: 0s - loss: 1.0701 - acc: 0.5682Epoch 1/100\n",
      "30/30 [==============================] - 26s 855ms/step - loss: 1.0701 - acc: 0.5685 - val_loss: 1.1077 - val_acc: 0.5891\n",
      "Epoch 39/100\n",
      "29/30 [============================>.] - ETA: 0s - loss: 1.0959 - acc: 0.5679Epoch 1/100\n",
      "30/30 [==============================] - 26s 858ms/step - loss: 1.0987 - acc: 0.5667 - val_loss: 0.9427 - val_acc: 0.6484\n",
      "Epoch 40/100\n",
      "29/30 [============================>.] - ETA: 0s - loss: 1.0722 - acc: 0.5735Epoch 1/100\n",
      "30/30 [==============================] - 26s 859ms/step - loss: 1.0753 - acc: 0.5703 - val_loss: 0.9240 - val_acc: 0.6422\n",
      "Epoch 41/100\n",
      "29/30 [============================>.] - ETA: 0s - loss: 1.0711 - acc: 0.5714Epoch 1/100\n",
      "30/30 [==============================] - 26s 852ms/step - loss: 1.0670 - acc: 0.5742 - val_loss: 1.0332 - val_acc: 0.6062\n",
      "Epoch 42/100\n",
      "29/30 [============================>.] - ETA: 0s - loss: 1.0911 - acc: 0.5625Epoch 1/100\n",
      "30/30 [==============================] - 26s 853ms/step - loss: 1.0908 - acc: 0.5633 - val_loss: 0.9662 - val_acc: 0.6125\n",
      "Epoch 43/100\n",
      "29/30 [============================>.] - ETA: 0s - loss: 1.0619 - acc: 0.5779Epoch 1/100\n",
      "30/30 [==============================] - 26s 882ms/step - loss: 1.0587 - acc: 0.5781 - val_loss: 0.9844 - val_acc: 0.6313\n",
      "Epoch 44/100\n",
      "29/30 [============================>.] - ETA: 0s - loss: 1.0985 - acc: 0.5633Epoch 1/100\n",
      "30/30 [==============================] - 26s 873ms/step - loss: 1.1003 - acc: 0.5609 - val_loss: 1.0596 - val_acc: 0.6062\n",
      "Epoch 45/100\n",
      "29/30 [============================>.] - ETA: 0s - loss: 1.0481 - acc: 0.5773Epoch 1/100\n",
      "30/30 [==============================] - 26s 882ms/step - loss: 1.0521 - acc: 0.5776 - val_loss: 1.0366 - val_acc: 0.5984\n",
      "Epoch 46/100\n",
      "29/30 [============================>.] - ETA: 0s - loss: 1.0652 - acc: 0.5663Epoch 1/100\n",
      "30/30 [==============================] - 26s 872ms/step - loss: 1.0639 - acc: 0.5682 - val_loss: 0.9223 - val_acc: 0.6203\n",
      "Epoch 47/100\n",
      "29/30 [============================>.] - ETA: 0s - loss: 1.0525 - acc: 0.5822Epoch 1/100\n",
      "30/30 [==============================] - 26s 877ms/step - loss: 1.0554 - acc: 0.5802 - val_loss: 0.9471 - val_acc: 0.6297\n",
      "Epoch 48/100\n",
      "29/30 [============================>.] - ETA: 0s - loss: 1.0637 - acc: 0.5685Epoch 1/100\n",
      "30/30 [==============================] - 26s 866ms/step - loss: 1.0696 - acc: 0.5646 - val_loss: 0.9343 - val_acc: 0.6453\n",
      "Epoch 49/100\n",
      "29/30 [============================>.] - ETA: 0s - loss: 1.0406 - acc: 0.5892Epoch 1/100\n",
      "30/30 [==============================] - 26s 867ms/step - loss: 1.0425 - acc: 0.5883 - val_loss: 0.9614 - val_acc: 0.6109\n",
      "Epoch 50/100\n",
      "29/30 [============================>.] - ETA: 0s - loss: 1.0260 - acc: 0.5916Epoch 1/100\n",
      "30/30 [==============================] - 26s 873ms/step - loss: 1.0238 - acc: 0.5914 - val_loss: 0.9344 - val_acc: 0.6266\n",
      "Epoch 51/100\n",
      "29/30 [============================>.] - ETA: 0s - loss: 1.0147 - acc: 0.5892Epoch 1/100\n",
      "30/30 [==============================] - 25s 838ms/step - loss: 1.0111 - acc: 0.5920 - val_loss: 0.9358 - val_acc: 0.6406\n",
      "Epoch 52/100\n",
      "29/30 [============================>.] - ETA: 0s - loss: 1.0173 - acc: 0.5967Epoch 1/100\n",
      "30/30 [==============================] - 26s 861ms/step - loss: 1.0246 - acc: 0.5935 - val_loss: 1.1755 - val_acc: 0.5562\n",
      "Epoch 53/100\n",
      "29/30 [============================>.] - ETA: 0s - loss: 1.0183 - acc: 0.6029Epoch 1/100\n",
      "30/30 [==============================] - 25s 845ms/step - loss: 1.0160 - acc: 0.6034 - val_loss: 0.8974 - val_acc: 0.6438\n",
      "Epoch 54/100\n",
      "29/30 [============================>.] - ETA: 0s - loss: 1.0451 - acc: 0.5897Epoch 1/100\n",
      "30/30 [==============================] - 25s 848ms/step - loss: 1.0398 - acc: 0.5941 - val_loss: 1.0286 - val_acc: 0.6187\n",
      "Epoch 55/100\n",
      "29/30 [============================>.] - ETA: 0s - loss: 1.0443 - acc: 0.5779Epoch 1/100\n",
      "30/30 [==============================] - 25s 849ms/step - loss: 1.0446 - acc: 0.5784 - val_loss: 0.9534 - val_acc: 0.6453\n",
      "Epoch 56/100\n",
      "29/30 [============================>.] - ETA: 0s - loss: 1.0190 - acc: 0.5983Epoch 1/100\n",
      "30/30 [==============================] - 26s 854ms/step - loss: 1.0196 - acc: 0.5990 - val_loss: 0.8769 - val_acc: 0.6484\n",
      "Epoch 57/100\n",
      "29/30 [============================>.] - ETA: 0s - loss: 1.0237 - acc: 0.5949Epoch 1/100\n",
      "30/30 [==============================] - 26s 853ms/step - loss: 1.0194 - acc: 0.5962 - val_loss: 0.8638 - val_acc: 0.6797\n",
      "Epoch 58/100\n",
      "29/30 [============================>.] - ETA: 0s - loss: 1.0003 - acc: 0.6040Epoch 1/100\n",
      "30/30 [==============================] - 26s 853ms/step - loss: 0.9952 - acc: 0.6044 - val_loss: 0.8804 - val_acc: 0.6562\n",
      "Epoch 59/100\n",
      "29/30 [============================>.] - ETA: 0s - loss: 1.0022 - acc: 0.6040Epoch 1/100\n",
      "30/30 [==============================] - 26s 864ms/step - loss: 1.0047 - acc: 0.6042 - val_loss: 0.9241 - val_acc: 0.6375\n",
      "Epoch 60/100\n",
      "29/30 [============================>.] - ETA: 0s - loss: 0.9774 - acc: 0.6217Epoch 1/100\n",
      "30/30 [==============================] - 25s 836ms/step - loss: 0.9790 - acc: 0.6181 - val_loss: 1.0032 - val_acc: 0.6016\n",
      "Epoch 61/100\n",
      "29/30 [============================>.] - ETA: 0s - loss: 1.0026 - acc: 0.6005Epoch 1/100\n",
      "30/30 [==============================] - 26s 868ms/step - loss: 1.0015 - acc: 0.6013 - val_loss: 0.8641 - val_acc: 0.6703\n",
      "Epoch 62/100\n",
      "29/30 [============================>.] - ETA: 0s - loss: 1.0089 - acc: 0.6040Epoch 1/100\n",
      "30/30 [==============================] - 26s 860ms/step - loss: 1.0103 - acc: 0.6029 - val_loss: 0.9119 - val_acc: 0.6516\n",
      "Epoch 63/100\n",
      "29/30 [============================>.] - ETA: 0s - loss: 0.9742 - acc: 0.6159Epoch 1/100\n",
      "30/30 [==============================] - 25s 836ms/step - loss: 0.9720 - acc: 0.6176 - val_loss: 0.9156 - val_acc: 0.6297\n",
      "Epoch 64/100\n",
      "29/30 [============================>.] - ETA: 0s - loss: 0.9870 - acc: 0.6199Epoch 1/100\n",
      "30/30 [==============================] - 26s 865ms/step - loss: 0.9853 - acc: 0.6203 - val_loss: 0.8873 - val_acc: 0.6687\n",
      "Epoch 65/100\n",
      "29/30 [============================>.] - ETA: 0s - loss: 0.9832 - acc: 0.6202Epoch 1/100\n",
      "30/30 [==============================] - 25s 845ms/step - loss: 0.9820 - acc: 0.6195 - val_loss: 0.9167 - val_acc: 0.6594\n",
      "Epoch 66/100\n",
      "29/30 [============================>.] - ETA: 0s - loss: 0.9385 - acc: 0.6331Epoch 1/100\n",
      "30/30 [==============================] - 26s 856ms/step - loss: 0.9418 - acc: 0.6310 - val_loss: 0.9504 - val_acc: 0.6391\n",
      "Epoch 67/100\n",
      "29/30 [============================>.] - ETA: 0s - loss: 0.9947 - acc: 0.6113Epoch 1/100\n",
      "30/30 [==============================] - 26s 856ms/step - loss: 0.9922 - acc: 0.6117 - val_loss: 0.8799 - val_acc: 0.6594\n",
      "Epoch 68/100\n",
      "29/30 [============================>.] - ETA: 0s - loss: 0.9527 - acc: 0.6298Epoch 1/100\n",
      "30/30 [==============================] - 25s 843ms/step - loss: 0.9516 - acc: 0.6310 - val_loss: 0.9412 - val_acc: 0.6344\n",
      "Epoch 69/100\n",
      "29/30 [============================>.] - ETA: 0s - loss: 0.9945 - acc: 0.6115Epoch 1/100\n",
      "30/30 [==============================] - 26s 852ms/step - loss: 0.9934 - acc: 0.6122 - val_loss: 0.9931 - val_acc: 0.6125\n",
      "Epoch 70/100\n",
      "29/30 [============================>.] - ETA: 0s - loss: 0.9708 - acc: 0.6204Epoch 1/100\n",
      "30/30 [==============================] - 26s 851ms/step - loss: 0.9685 - acc: 0.6211 - val_loss: 0.8308 - val_acc: 0.6828\n",
      "Epoch 71/100\n",
      "29/30 [============================>.] - ETA: 0s - loss: 0.9553 - acc: 0.6258Epoch 1/100\n",
      "30/30 [==============================] - 26s 860ms/step - loss: 0.9518 - acc: 0.6284 - val_loss: 0.8938 - val_acc: 0.6547\n",
      "Epoch 72/100\n",
      "29/30 [============================>.] - ETA: 0s - loss: 0.9618 - acc: 0.6309Epoch 1/100\n",
      "30/30 [==============================] - 25s 832ms/step - loss: 0.9630 - acc: 0.6307 - val_loss: 0.8373 - val_acc: 0.6938\n",
      "Epoch 73/100\n",
      "29/30 [============================>.] - ETA: 0s - loss: 0.9669 - acc: 0.6202Epoch 1/100\n",
      "30/30 [==============================] - 26s 856ms/step - loss: 0.9728 - acc: 0.6174 - val_loss: 1.1219 - val_acc: 0.5750\n",
      "Epoch 74/100\n",
      "29/30 [============================>.] - ETA: 0s - loss: 0.9362 - acc: 0.6352Epoch 1/100\n",
      "30/30 [==============================] - 26s 860ms/step - loss: 0.9354 - acc: 0.6344 - val_loss: 0.8995 - val_acc: 0.6703\n",
      "Epoch 75/100\n",
      "29/30 [============================>.] - ETA: 0s - loss: 0.9756 - acc: 0.6135Epoch 1/100\n",
      "30/30 [==============================] - 25s 844ms/step - loss: 0.9734 - acc: 0.6152 - val_loss: 0.8960 - val_acc: 0.6750\n",
      "Epoch 76/100\n",
      "29/30 [============================>.] - ETA: 0s - loss: 0.9163 - acc: 0.6385Epoch 1/100\n",
      "30/30 [==============================] - 26s 859ms/step - loss: 0.9190 - acc: 0.6365 - val_loss: 0.8420 - val_acc: 0.6906\n",
      "Epoch 77/100\n",
      "29/30 [============================>.] - ETA: 0s - loss: 0.9516 - acc: 0.6309Epoch 1/100\n",
      "30/30 [==============================] - 25s 849ms/step - loss: 0.9492 - acc: 0.6318 - val_loss: 0.8680 - val_acc: 0.6812\n",
      "Epoch 78/100\n",
      "29/30 [============================>.] - ETA: 0s - loss: 0.9348 - acc: 0.6416Epoch 1/100\n",
      "30/30 [==============================] - 25s 850ms/step - loss: 0.9367 - acc: 0.6405 - val_loss: 0.8271 - val_acc: 0.6922\n",
      "Epoch 79/100\n",
      "29/30 [============================>.] - ETA: 0s - loss: 0.9487 - acc: 0.6347Epoch 1/100\n",
      "30/30 [==============================] - 25s 849ms/step - loss: 0.9479 - acc: 0.6344 - val_loss: 0.8719 - val_acc: 0.6703\n",
      "Epoch 80/100\n",
      "29/30 [============================>.] - ETA: 0s - loss: 0.9452 - acc: 0.6220Epoch 1/100\n",
      "30/30 [==============================] - 26s 853ms/step - loss: 0.9428 - acc: 0.6237 - val_loss: 0.8275 - val_acc: 0.7000\n",
      "Epoch 81/100\n",
      "29/30 [============================>.] - ETA: 0s - loss: 0.9206 - acc: 0.6409Epoch 1/100\n",
      "30/30 [==============================] - 26s 853ms/step - loss: 0.9212 - acc: 0.6414 - val_loss: 0.9159 - val_acc: 0.6516\n",
      "Epoch 82/100\n",
      "29/30 [============================>.] - ETA: 0s - loss: 0.8986 - acc: 0.6466Epoch 1/100\n",
      "30/30 [==============================] - 26s 851ms/step - loss: 0.8985 - acc: 0.6453 - val_loss: 0.7764 - val_acc: 0.7109\n",
      "Epoch 83/100\n",
      "29/30 [============================>.] - ETA: 0s - loss: 0.9305 - acc: 0.6398Epoch 1/100\n",
      "30/30 [==============================] - 26s 852ms/step - loss: 0.9339 - acc: 0.6385 - val_loss: 0.8416 - val_acc: 0.6797\n",
      "Epoch 84/100\n",
      "29/30 [============================>.] - ETA: 0s - loss: 0.9036 - acc: 0.6484Epoch 1/100\n",
      "30/30 [==============================] - 25s 834ms/step - loss: 0.9030 - acc: 0.6487 - val_loss: 0.7523 - val_acc: 0.7203\n",
      "Epoch 85/100\n",
      "29/30 [============================>.] - ETA: 0s - loss: 0.9217 - acc: 0.6422Epoch 1/100\n",
      "30/30 [==============================] - 26s 864ms/step - loss: 0.9219 - acc: 0.6422 - val_loss: 0.8062 - val_acc: 0.7000\n",
      "Epoch 86/100\n",
      "29/30 [============================>.] - ETA: 0s - loss: 0.9288 - acc: 0.6404Epoch 1/100\n",
      "30/30 [==============================] - 26s 857ms/step - loss: 0.9335 - acc: 0.6380 - val_loss: 0.9249 - val_acc: 0.6359\n",
      "Epoch 87/100\n",
      "29/30 [============================>.] - ETA: 0s - loss: 0.9112 - acc: 0.6487Epoch 1/100\n",
      "30/30 [==============================] - 25s 846ms/step - loss: 0.9084 - acc: 0.6487 - val_loss: 0.8985 - val_acc: 0.6750\n",
      "Epoch 88/100\n",
      "29/30 [============================>.] - ETA: 0s - loss: 0.8990 - acc: 0.6501Epoch 1/100\n",
      "30/30 [==============================] - 26s 853ms/step - loss: 0.8957 - acc: 0.6531 - val_loss: 0.7836 - val_acc: 0.7016\n",
      "Epoch 89/100\n",
      "29/30 [============================>.] - ETA: 0s - loss: 0.8903 - acc: 0.6557Epoch 1/100\n",
      "30/30 [==============================] - 26s 858ms/step - loss: 0.8888 - acc: 0.6562 - val_loss: 0.8103 - val_acc: 0.6875\n",
      "Epoch 90/100\n",
      "29/30 [============================>.] - ETA: 0s - loss: 0.9221 - acc: 0.6379Epoch 1/100\n",
      "30/30 [==============================] - 26s 853ms/step - loss: 0.9229 - acc: 0.6380 - val_loss: 0.9252 - val_acc: 0.6672\n",
      "Epoch 91/100\n",
      "29/30 [============================>.] - ETA: 0s - loss: 0.8990 - acc: 0.6473Epoch 1/100\n",
      "30/30 [==============================] - 25s 837ms/step - loss: 0.8973 - acc: 0.6471 - val_loss: 0.8708 - val_acc: 0.6656\n",
      "Epoch 92/100\n",
      "29/30 [============================>.] - ETA: 0s - loss: 0.9002 - acc: 0.6495Epoch 1/100\n",
      "30/30 [==============================] - 26s 861ms/step - loss: 0.8980 - acc: 0.6497 - val_loss: 0.7810 - val_acc: 0.6906\n",
      "Epoch 93/100\n",
      "29/30 [============================>.] - ETA: 0s - loss: 0.9379 - acc: 0.6447Epoch 1/100\n",
      "30/30 [==============================] - 25s 849ms/step - loss: 0.9397 - acc: 0.6440 - val_loss: 0.8209 - val_acc: 0.6859\n",
      "Epoch 94/100\n",
      "29/30 [============================>.] - ETA: 0s - loss: 0.8741 - acc: 0.6643Epoch 1/100\n",
      "30/30 [==============================] - 26s 853ms/step - loss: 0.8688 - acc: 0.6667 - val_loss: 0.7800 - val_acc: 0.7109\n",
      "Epoch 95/100\n",
      "29/30 [============================>.] - ETA: 0s - loss: 0.9064 - acc: 0.6595Epoch 1/100\n",
      "30/30 [==============================] - 26s 856ms/step - loss: 0.9072 - acc: 0.6591 - val_loss: 0.7603 - val_acc: 0.6984\n",
      "Epoch 96/100\n",
      "29/30 [============================>.] - ETA: 0s - loss: 0.8915 - acc: 0.6484Epoch 1/100\n",
      "30/30 [==============================] - 26s 851ms/step - loss: 0.8871 - acc: 0.6521 - val_loss: 0.8074 - val_acc: 0.6953\n",
      "Epoch 97/100\n",
      "29/30 [============================>.] - ETA: 0s - loss: 0.8848 - acc: 0.6585Epoch 1/100\n",
      "30/30 [==============================] - 25s 847ms/step - loss: 0.8850 - acc: 0.6587 - val_loss: 0.7866 - val_acc: 0.6938\n",
      "Epoch 98/100\n",
      "29/30 [============================>.] - ETA: 0s - loss: 0.9093 - acc: 0.6514Epoch 1/100\n",
      "30/30 [==============================] - 26s 856ms/step - loss: 0.9070 - acc: 0.6513 - val_loss: 0.8202 - val_acc: 0.7078\n",
      "Epoch 99/100\n",
      "29/30 [============================>.] - ETA: 0s - loss: 0.8642 - acc: 0.6789Epoch 1/100\n",
      "30/30 [==============================] - 26s 866ms/step - loss: 0.8639 - acc: 0.6771 - val_loss: 0.8045 - val_acc: 0.6859\n",
      "Epoch 100/100\n",
      "29/30 [============================>.] - ETA: 0s - loss: 0.8588 - acc: 0.6673Epoch 1/100\n",
      "30/30 [==============================] - 25s 850ms/step - loss: 0.8587 - acc: 0.6674 - val_loss: 0.9938 - val_acc: 0.6391\n"
     ]
    }
   ],
   "source": [
    "# Training\n",
    "history = model.fit_generator(\n",
    "      train_generator,\n",
    "      steps_per_epoch=30,  \n",
    "      epochs=100,\n",
    "      verbose=1,\n",
    "      validation_data = test_generator,\n",
    "      validation_steps=5)"
   ]
  },
  {
   "cell_type": "code",
   "execution_count": 66,
   "metadata": {
    "colab": {
     "base_uri": "https://localhost:8080/",
     "height": 545
    },
    "colab_type": "code",
    "id": "mSTyHz_8xUTZ",
    "outputId": "52ebfd22-3e77-497b-ca22-0613799b242c"
   },
   "outputs": [
    {
     "data": {
      "image/png": "[encoded data removed]",
      "text/plain": [
       "<Figure size 432x288 with 1 Axes>"
      ]
     },
     "metadata": {
      "tags": []
     },
     "output_type": "display_data"
    },
    {
     "data": {
      "image/png": "[encoded data removed]",
      "text/plain": [
       "<Figure size 432x288 with 1 Axes>"
      ]
     },
     "metadata": {
      "tags": []
     },
     "output_type": "display_data"
    }
   ],
   "source": [
    "# Plotting Validation and Train Set Accuracy and Loss\n",
    "\n",
    "import matplotlib.pyplot as plt\n",
    "acc = history.history['acc']\n",
    "val_acc = history.history['val_acc']\n",
    "loss = history.history['loss']\n",
    "val_loss = history.history['val_loss']\n",
    "\n",
    "epochs = range(len(acc))\n",
    "\n",
    "plt.plot(epochs, acc, 'r', label='Training accuracy')\n",
    "plt.plot(epochs, val_acc, 'b', label='Validation accuracy')\n",
    "plt.title('Training and validation accuracy')\n",
    "plt.legend()\n",
    "plt.figure()\n",
    "\n",
    "plt.plot(epochs, loss, 'r', label='Training Loss')\n",
    "plt.plot(epochs, val_loss, 'b', label='Validation Loss')\n",
    "plt.title('Training and validation loss')\n",
    "plt.legend()\n",
    "\n",
    "plt.show()"
   ]
  }
 ],
 "metadata": {
  "accelerator": "GPU",
  "colab": {
   "name": "Intel-Image-Classification: VGG-16.ipynb",
   "provenance": [],
   "toc_visible": true
  },
  "kernelspec": {
   "display_name": "Python 3",
   "language": "python",
   "name": "python3"
  },
  "language_info": {
   "codemirror_mode": {
    "name": "ipython",
    "version": 3
   },
   "file_extension": ".py",
   "mimetype": "text/x-python",
   "name": "python",
   "nbconvert_exporter": "python",
   "pygments_lexer": "ipython3",
   "version": "3.7.3"
  },
  "widgets": {
   "application/vnd.jupyter.widget-state+json": {
    "state": {},
    "version_major": 2,
    "version_minor": 0
   }
  }
 },
 "nbformat": 4,
 "nbformat_minor": 1
}
