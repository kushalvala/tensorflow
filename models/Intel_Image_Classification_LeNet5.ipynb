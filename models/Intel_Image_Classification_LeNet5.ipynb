{
 "cells": [
  {
   "cell_type": "markdown",
   "metadata": {
    "colab_type": "text",
    "id": "sAH_YSA-5GEo"
   },
   "source": [
    "Downloading the dataset from Kaggle"
   ]
  },
  {
   "cell_type": "code",
   "execution_count": 1,
   "metadata": {
    "colab": {
     "base_uri": "https://localhost:8080/",
     "height": 224
    },
    "colab_type": "code",
    "id": "HzAzl7dmxNtk",
    "outputId": "fead6cf8-c527-44f2-ed69-135d450243f3"
   },
   "outputs": [
    {
     "name": "stdout",
     "output_type": "stream",
     "text": [
      "Requirement already satisfied: kaggle in /usr/local/lib/python3.6/dist-packages (1.5.6)\n",
      "Requirement already satisfied: python-dateutil in /usr/local/lib/python3.6/dist-packages (from kaggle) (2.6.1)\n",
      "Requirement already satisfied: python-slugify in /usr/local/lib/python3.6/dist-packages (from kaggle) (4.0.0)\n",
      "Requirement already satisfied: urllib3<1.25,>=1.21.1 in /usr/local/lib/python3.6/dist-packages (from kaggle) (1.24.3)\n",
      "Requirement already satisfied: certifi in /usr/local/lib/python3.6/dist-packages (from kaggle) (2019.11.28)\n",
      "Requirement already satisfied: requests in /usr/local/lib/python3.6/dist-packages (from kaggle) (2.21.0)\n",
      "Requirement already satisfied: six>=1.10 in /usr/local/lib/python3.6/dist-packages (from kaggle) (1.12.0)\n",
      "Requirement already satisfied: tqdm in /usr/local/lib/python3.6/dist-packages (from kaggle) (4.28.1)\n",
      "Requirement already satisfied: text-unidecode>=1.3 in /usr/local/lib/python3.6/dist-packages (from python-slugify->kaggle) (1.3)\n",
      "Requirement already satisfied: chardet<3.1.0,>=3.0.2 in /usr/local/lib/python3.6/dist-packages (from requests->kaggle) (3.0.4)\n",
      "Requirement already satisfied: idna<2.9,>=2.5 in /usr/local/lib/python3.6/dist-packages (from requests->kaggle) (2.8)\n"
     ]
    }
   ],
   "source": [
    "!pip install kaggle"
   ]
  },
  {
   "cell_type": "code",
   "execution_count": 0,
   "metadata": {
    "colab": {},
    "colab_type": "code",
    "id": "rttUBNs5y40f"
   },
   "outputs": [],
   "source": [
    "# Accessing Kaggle Token API to access Public Dataset\n",
    "import json\n",
    "\n",
    "token = {\"username\":\"xxxxxxx\",\"key\":\"--------\"}\n",
    "with open('/root/.kaggle/kaggle.json', 'w') as file:\n",
    "    json.dump(token, file)"
   ]
  },
  {
   "cell_type": "code",
   "execution_count": 0,
   "metadata": {
    "colab": {},
    "colab_type": "code",
    "id": "aNrSLooVzGbw"
   },
   "outputs": [],
   "source": [
    "!chmod 600 /root/.kaggle/kaggle.json\n"
   ]
  },
  {
   "cell_type": "code",
   "execution_count": 22,
   "metadata": {
    "colab": {
     "base_uri": "https://localhost:8080/",
     "height": 34
    },
    "colab_type": "code",
    "id": "KzuwK_o5zO_H",
    "outputId": "85b2a29e-db26-4529-9b4d-485709ddab93"
   },
   "outputs": [
    {
     "name": "stdout",
     "output_type": "stream",
     "text": [
      "- path is now set to: {/content}\n"
     ]
    }
   ],
   "source": [
    "!kaggle config set -n path -v{/content}"
   ]
  },
  {
   "cell_type": "code",
   "execution_count": 46,
   "metadata": {
    "colab": {
     "base_uri": "https://localhost:8080/",
     "height": 85
    },
    "colab_type": "code",
    "id": "dllgjOVa0UGa",
    "outputId": "6a50b161-8bda-4c83-bb78-98d824181cc3"
   },
   "outputs": [
    {
     "name": "stdout",
     "output_type": "stream",
     "text": [
      "Warning: Looks like you're using an outdated API Version, please consider updating (server 1.5.6 / client 1.5.4)\n",
      "ref                                    title                        size  lastUpdated          downloadCount  \n",
      "-------------------------------------  --------------------------  -----  -------------------  -------------  \n",
      "puneet6060/intel-image-classification  Intel Image Classification  346MB  2019-01-30 09:22:58           9885  \n"
     ]
    }
   ],
   "source": [
    "!kaggle datasets list -s puneet6060/intel-image-classification"
   ]
  },
  {
   "cell_type": "code",
   "execution_count": 47,
   "metadata": {
    "colab": {
     "base_uri": "https://localhost:8080/",
     "height": 68
    },
    "colab_type": "code",
    "id": "NX5bIFda4k-v",
    "outputId": "a5c50e4e-510a-48c1-b276-6d51fa1389fd"
   },
   "outputs": [
    {
     "name": "stdout",
     "output_type": "stream",
     "text": [
      "Downloading intel-image-classification.zip to /content\n",
      "100% 345M/346M [00:01<00:00, 187MB/s]\n",
      "100% 346M/346M [00:01<00:00, 189MB/s]\n"
     ]
    }
   ],
   "source": [
    "!kaggle datasets download -d puneet6060/intel-image-classification -p /content"
   ]
  },
  {
   "cell_type": "code",
   "execution_count": 0,
   "metadata": {
    "colab": {},
    "colab_type": "code",
    "id": "m0ysAPdj4suc"
   },
   "outputs": [],
   "source": [
    "#!unzip \\*.zip\n"
   ]
  },
  {
   "cell_type": "markdown",
   "metadata": {
    "colab_type": "text",
    "id": "AHesj4_R5Qnq"
   },
   "source": [
    "**Intel Image Classification- MultiClass Classification**\n",
    "\n",
    "This Data contains around 25k images of size 150x150 distributed under 6 categories.\n",
    "\n",
    "Categories:\n",
    "1. Buildings\n",
    "2. Forest\n",
    "3. Glacier\n",
    "4. Mountain\n",
    "5. Sea\n",
    "6. Street"
   ]
  },
  {
   "cell_type": "code",
   "execution_count": 49,
   "metadata": {
    "colab": {
     "base_uri": "https://localhost:8080/",
     "height": 63
    },
    "colab_type": "code",
    "id": "qAhPcGb25QFH",
    "outputId": "729de178-f2cc-403c-d397-50d904d2b877"
   },
   "outputs": [
    {
     "data": {
      "text/html": [
       "<p style=\"color: red;\">\n",
       "The default version of TensorFlow in Colab will soon switch to TensorFlow 2.x.<br>\n",
       "We recommend you <a href=\"https://www.tensorflow.org/guide/migrate\" target=\"_blank\">upgrade</a> now \n",
       "or ensure your notebook will continue to use TensorFlow 1.x via the <code>%tensorflow_version 1.x</code> magic:\n",
       "<a href=\"https://colab.research.google.com/notebooks/tensorflow_version.ipynb\" target=\"_blank\">more info</a>.</p>\n"
      ],
      "text/plain": [
       "<IPython.core.display.HTML object>"
      ]
     },
     "metadata": {
      "tags": []
     },
     "output_type": "display_data"
    }
   ],
   "source": [
    "import tensorflow as tf"
   ]
  },
  {
   "cell_type": "code",
   "execution_count": 50,
   "metadata": {
    "colab": {
     "base_uri": "https://localhost:8080/",
     "height": 34
    },
    "colab_type": "code",
    "id": "5a4qDjM59jeZ",
    "outputId": "394fc0b2-de74-4fd5-99a1-6e3efef5629e"
   },
   "outputs": [
    {
     "data": {
      "text/plain": [
       "'/content'"
      ]
     },
     "execution_count": 50,
     "metadata": {
      "tags": []
     },
     "output_type": "execute_result"
    }
   ],
   "source": [
    "pwd"
   ]
  },
  {
   "cell_type": "code",
   "execution_count": 0,
   "metadata": {
    "colab": {},
    "colab_type": "code",
    "id": "ycEhrPDn8pG9"
   },
   "outputs": [],
   "source": [
    "# Assigning the structure for the train images:\n",
    "\n",
    "train_buildings = os.path.join('/content/seg_train/seg_train/buildings')\n",
    "train_forest = os.path.join('/content/seg_train/seg_train/forest')\n",
    "train_glacier = os.path.join('/content/seg_train/seg_train/glacier')\n",
    "train_mountain =os.path.join('/content/seg_train/seg_train/mountain')\n",
    "train_sea = os.path.join('/content/seg_train/seg_train/sea')\n",
    "train_street = os.path.join('/content/seg_train/seg_train/street')"
   ]
  },
  {
   "cell_type": "code",
   "execution_count": 69,
   "metadata": {
    "colab": {
     "base_uri": "https://localhost:8080/",
     "height": 119
    },
    "colab_type": "code",
    "id": "VJDhV18E_h8i",
    "outputId": "fe025820-00f7-478d-d70a-f025ce7d0ade"
   },
   "outputs": [
    {
     "name": "stdout",
     "output_type": "stream",
     "text": [
      "Total training Buildings detected images: 2191\n",
      "Total training Forest detected images: 2271\n",
      "Total training Glacier detected images: 2404\n",
      "Total training Mountain detected images: 2512\n",
      "Total training Sea detected images: 2274\n",
      "Total training Street detected images: 2382\n"
     ]
    }
   ],
   "source": [
    "print('Total training Buildings detected images:', len(os.listdir(train_buildings)))\n",
    "print('Total training Forest detected images:', len(os.listdir(train_forest)))\n",
    "print('Total training Glacier detected images:', len(os.listdir(train_glacier)))\n",
    "print('Total training Mountain detected images:', len(os.listdir(train_mountain)))\n",
    "print('Total training Sea detected images:', len(os.listdir(train_sea)))\n",
    "print('Total training Street detected images:', len(os.listdir(train_street)))"
   ]
  },
  {
   "cell_type": "markdown",
   "metadata": {
    "colab_type": "text",
    "id": "_ggBbhJHJUBd"
   },
   "source": [
    "*Setting up the Generator Functions for Training and Validation Set*"
   ]
  },
  {
   "cell_type": "code",
   "execution_count": 0,
   "metadata": {
    "colab": {},
    "colab_type": "code",
    "id": "EhNnES_a_2-I"
   },
   "outputs": [],
   "source": [
    "# Creating Image Generators for Train, Test and Validation Set\n",
    "\n",
    "from tensorflow.keras.preprocessing.image import ImageDataGenerator\n",
    "\n",
    "TRAIN_DIR = '/content/seg_train/seg_train/' \n",
    "VAL_DIR = '/content/seg_pred/seg_pred/'\n",
    "TEST_DIR = '/content/seg_test/seg_test/'\n",
    "\n",
    "# Image Augumentation\n",
    "train_datagen = ImageDataGenerator(\n",
    "      rescale=1./255,\n",
    "      rotation_range=40,\n",
    "      width_shift_range=0.2,\n",
    "      height_shift_range=0.2,\n",
    "      shear_range=0.2,\n",
    "      zoom_range=0.2,\n",
    "      horizontal_flip=True,\n",
    "      fill_mode='nearest'\n",
    ")\n",
    "\n",
    "test_datagen = ImageDataGenerator(\n",
    "    rescale = 1./255\n",
    ")"
   ]
  },
  {
   "cell_type": "code",
   "execution_count": 85,
   "metadata": {
    "colab": {
     "base_uri": "https://localhost:8080/",
     "height": 51
    },
    "colab_type": "code",
    "id": "GojRg5ChEz7F",
    "outputId": "7e61f349-1a0f-49b3-c7f4-23dab9cac63c"
   },
   "outputs": [
    {
     "name": "stdout",
     "output_type": "stream",
     "text": [
      "Found 14034 images belonging to 6 classes.\n",
      "Found 3000 images belonging to 6 classes.\n"
     ]
    }
   ],
   "source": [
    "# To make Train and Test Data Generators\n",
    "\n",
    "train_generator = train_datagen.flow_from_directory(\n",
    "    directory = TRAIN_DIR,\n",
    "    target_size=(32,32),\n",
    "    batch_size = 128,\n",
    "    class_mode = 'categorical'\n",
    ")\n",
    "\n",
    "test_generator = test_datagen.flow_from_directory(\n",
    "    directory = TEST_DIR,\n",
    "    target_size = (32,32),\n",
    "    batch_size = 128,\n",
    "    class_mode = 'categorical'\n",
    ")"
   ]
  },
  {
   "cell_type": "markdown",
   "metadata": {
    "colab_type": "text",
    "id": "k74HvNCNI38G"
   },
   "source": [
    "**LeNet-50**"
   ]
  },
  {
   "cell_type": "code",
   "execution_count": 0,
   "metadata": {
    "colab": {},
    "colab_type": "code",
    "id": "XcMHO9RJH9Ej"
   },
   "outputs": [],
   "source": [
    "# Model : LeNet-5 (Used ReLu instead of Tanh)\n",
    "\n",
    "# C1: Convolution Layer with 5x5 Kernel with 6 filters\n",
    "# A1: Average Pooling with Pooling Size of 2 and stride = 2\n",
    "# C2: Convolution Layer with 5x5 Kernel with 16 filters\n",
    "# A2: Average Pooling with Pooling Size of 2 and stride = 2\n",
    "# C2: 120 filters with 5x5 Filters\n",
    "model = tf.keras.models.Sequential([\n",
    "    tf.keras.layers.Conv2D(filters=6 , kernel_size= 5 , activation= 'relu', input_shape = (32,32,3) , strides= 1),\n",
    "    tf.keras.layers.AveragePooling2D(pool_size= (2,2) , strides= 2, padding= 'same'),\n",
    "    tf.keras.layers.Conv2D(filters= 16, kernel_size= 5, activation= 'relu', strides= 1),\n",
    "    tf.keras.layers.AveragePooling2D(pool_size= (2,2) , strides= 2),\n",
    "    tf.keras.layers.Conv2D(filters= 120 , kernel_size= 5 , strides= 1, activation= 'relu'),\n",
    "    tf.keras.layers.Flatten(),\n",
    "    #tf.keras.layers.Dense(128, activation= 'relu'),\n",
    "    tf.keras.layers.Dense(6, activation='softmax')\n",
    "]\n",
    ")"
   ]
  },
  {
   "cell_type": "code",
   "execution_count": 93,
   "metadata": {
    "colab": {
     "base_uri": "https://localhost:8080/",
     "height": 391
    },
    "colab_type": "code",
    "id": "ZnPBJITLUJto",
    "outputId": "900e2614-dc87-43d4-eec8-09287acb65b5"
   },
   "outputs": [
    {
     "name": "stdout",
     "output_type": "stream",
     "text": [
      "Model: \"sequential_4\"\n",
      "_________________________________________________________________\n",
      "Layer (type)                 Output Shape              Param #   \n",
      "=================================================================\n",
      "conv2d_18 (Conv2D)           (None, 28, 28, 6)         456       \n",
      "_________________________________________________________________\n",
      "average_pooling2d_12 (Averag (None, 14, 14, 6)         0         \n",
      "_________________________________________________________________\n",
      "conv2d_19 (Conv2D)           (None, 10, 10, 16)        2416      \n",
      "_________________________________________________________________\n",
      "average_pooling2d_13 (Averag (None, 5, 5, 16)          0         \n",
      "_________________________________________________________________\n",
      "conv2d_20 (Conv2D)           (None, 1, 1, 120)         48120     \n",
      "_________________________________________________________________\n",
      "flatten_6 (Flatten)          (None, 120)               0         \n",
      "_________________________________________________________________\n",
      "dense_7 (Dense)              (None, 6)                 726       \n",
      "=================================================================\n",
      "Total params: 51,718\n",
      "Trainable params: 51,718\n",
      "Non-trainable params: 0\n",
      "_________________________________________________________________\n"
     ]
    }
   ],
   "source": [
    "model.summary()"
   ]
  },
  {
   "cell_type": "code",
   "execution_count": 0,
   "metadata": {
    "colab": {},
    "colab_type": "code",
    "id": "Ygh1kRYHUWki"
   },
   "outputs": [],
   "source": [
    "# Using RMSProp as Optimizer and Categorical Cross Entropy Loss Function \n",
    "from tensorflow.keras.optimizers import RMSprop\n",
    "\n",
    "model.compile(loss='categorical_crossentropy',\n",
    "              optimizer=RMSprop(lr=0.001),\n",
    "              metrics=['acc'])"
   ]
  },
  {
   "cell_type": "code",
   "execution_count": 95,
   "metadata": {
    "colab": {
     "base_uri": "https://localhost:8080/",
     "height": 1000
    },
    "colab_type": "code",
    "id": "7AnxXqFfUoOu",
    "outputId": "c0bf6f61-1542-4779-bfe8-c55c52150184"
   },
   "outputs": [
    {
     "name": "stdout",
     "output_type": "stream",
     "text": [
      "Epoch 1/100\n",
      "7/8 [=========================>....] - ETA: 0s - loss: 1.7742 - acc: 0.2199Epoch 1/100\n",
      "8/8 [==============================] - 1s 166ms/step - loss: 1.7273 - acc: 0.2461\n",
      "8/8 [==============================] - 3s 342ms/step - loss: 1.7669 - acc: 0.2314 - val_loss: 1.7273 - val_acc: 0.2461\n",
      "Epoch 2/100\n",
      "7/8 [=========================>....] - ETA: 0s - loss: 1.7141 - acc: 0.2600Epoch 1/100\n",
      "8/8 [==============================] - 1s 158ms/step - loss: 1.6271 - acc: 0.2959\n",
      "8/8 [==============================] - 2s 225ms/step - loss: 1.7092 - acc: 0.2637 - val_loss: 1.6271 - val_acc: 0.2959\n",
      "Epoch 3/100\n",
      "7/8 [=========================>....] - ETA: 0s - loss: 1.6473 - acc: 0.3147Epoch 1/100\n",
      "8/8 [==============================] - 1s 163ms/step - loss: 1.6694 - acc: 0.2861\n",
      "8/8 [==============================] - 2s 236ms/step - loss: 1.6487 - acc: 0.3135 - val_loss: 1.6694 - val_acc: 0.2861\n",
      "Epoch 4/100\n",
      "7/8 [=========================>....] - ETA: 0s - loss: 1.6114 - acc: 0.3359Epoch 1/100\n",
      "8/8 [==============================] - 1s 169ms/step - loss: 1.5040 - acc: 0.4463\n",
      "8/8 [==============================] - 2s 238ms/step - loss: 1.6109 - acc: 0.3408 - val_loss: 1.5040 - val_acc: 0.4463\n",
      "Epoch 5/100\n",
      "7/8 [=========================>....] - ETA: 0s - loss: 1.5338 - acc: 0.4029Epoch 1/100\n",
      "8/8 [==============================] - 1s 177ms/step - loss: 1.5835 - acc: 0.3320\n",
      "8/8 [==============================] - 2s 260ms/step - loss: 1.5429 - acc: 0.4033 - val_loss: 1.5835 - val_acc: 0.3320\n",
      "Epoch 6/100\n",
      "7/8 [=========================>....] - ETA: 0s - loss: 1.5695 - acc: 0.3962Epoch 1/100\n",
      "8/8 [==============================] - 1s 163ms/step - loss: 1.4301 - acc: 0.4580\n",
      "8/8 [==============================] - 2s 233ms/step - loss: 1.5599 - acc: 0.4062 - val_loss: 1.4301 - val_acc: 0.4580\n",
      "Epoch 7/100\n",
      "7/8 [=========================>....] - ETA: 0s - loss: 1.4536 - acc: 0.4635Epoch 1/100\n",
      "8/8 [==============================] - 1s 162ms/step - loss: 1.6689 - acc: 0.3184\n",
      "8/8 [==============================] - 2s 222ms/step - loss: 1.4618 - acc: 0.4540 - val_loss: 1.6689 - val_acc: 0.3184\n",
      "Epoch 8/100\n",
      "7/8 [=========================>....] - ETA: 0s - loss: 1.4763 - acc: 0.4074Epoch 1/100\n",
      "8/8 [==============================] - 1s 160ms/step - loss: 1.3599 - acc: 0.5205\n",
      "8/8 [==============================] - 2s 226ms/step - loss: 1.4785 - acc: 0.4053 - val_loss: 1.3599 - val_acc: 0.5205\n",
      "Epoch 9/100\n",
      "7/8 [=========================>....] - ETA: 0s - loss: 1.5488 - acc: 0.4051Epoch 1/100\n",
      "8/8 [==============================] - 1s 163ms/step - loss: 1.3457 - acc: 0.4990\n",
      "8/8 [==============================] - 2s 233ms/step - loss: 1.5243 - acc: 0.4121 - val_loss: 1.3457 - val_acc: 0.4990\n",
      "Epoch 10/100\n",
      "7/8 [=========================>....] - ETA: 0s - loss: 1.3681 - acc: 0.4710Epoch 1/100\n",
      "8/8 [==============================] - 1s 161ms/step - loss: 1.2854 - acc: 0.5049\n",
      "8/8 [==============================] - 2s 230ms/step - loss: 1.3575 - acc: 0.4805 - val_loss: 1.2854 - val_acc: 0.5049\n",
      "Epoch 11/100\n",
      "7/8 [=========================>....] - ETA: 0s - loss: 1.4566 - acc: 0.4286Epoch 1/100\n",
      "8/8 [==============================] - 1s 159ms/step - loss: 1.3214 - acc: 0.4932\n",
      "8/8 [==============================] - 2s 232ms/step - loss: 1.4489 - acc: 0.4346 - val_loss: 1.3214 - val_acc: 0.4932\n",
      "Epoch 12/100\n",
      "7/8 [=========================>....] - ETA: 0s - loss: 1.3644 - acc: 0.4453Epoch 1/100\n",
      "8/8 [==============================] - 1s 173ms/step - loss: 1.2987 - acc: 0.4844\n",
      "8/8 [==============================] - 2s 247ms/step - loss: 1.3740 - acc: 0.4512 - val_loss: 1.2987 - val_acc: 0.4844\n",
      "Epoch 13/100\n",
      "7/8 [=========================>....] - ETA: 0s - loss: 1.4236 - acc: 0.4364Epoch 1/100\n",
      "8/8 [==============================] - 1s 162ms/step - loss: 1.3659 - acc: 0.4658\n",
      "8/8 [==============================] - 2s 236ms/step - loss: 1.4199 - acc: 0.4404 - val_loss: 1.3659 - val_acc: 0.4658\n",
      "Epoch 14/100\n",
      "7/8 [=========================>....] - ETA: 0s - loss: 1.3854 - acc: 0.4799Epoch 1/100\n",
      "8/8 [==============================] - 1s 168ms/step - loss: 1.2687 - acc: 0.5186\n",
      "8/8 [==============================] - 2s 250ms/step - loss: 1.3829 - acc: 0.4727 - val_loss: 1.2687 - val_acc: 0.5186\n",
      "Epoch 15/100\n",
      "7/8 [=========================>....] - ETA: 0s - loss: 1.4076 - acc: 0.4587Epoch 1/100\n",
      "8/8 [==============================] - 1s 159ms/step - loss: 1.2805 - acc: 0.5117\n",
      "8/8 [==============================] - 2s 226ms/step - loss: 1.4048 - acc: 0.4658 - val_loss: 1.2805 - val_acc: 0.5117\n",
      "Epoch 16/100\n",
      "7/8 [=========================>....] - ETA: 0s - loss: 1.2890 - acc: 0.4900Epoch 1/100\n",
      "8/8 [==============================] - 1s 162ms/step - loss: 1.3097 - acc: 0.4844\n",
      "8/8 [==============================] - 2s 231ms/step - loss: 1.2859 - acc: 0.4912 - val_loss: 1.3097 - val_acc: 0.4844\n",
      "Epoch 17/100\n",
      "7/8 [=========================>....] - ETA: 0s - loss: 1.3966 - acc: 0.4453Epoch 1/100\n",
      "8/8 [==============================] - 1s 161ms/step - loss: 1.2216 - acc: 0.5430\n",
      "8/8 [==============================] - 2s 229ms/step - loss: 1.3619 - acc: 0.4707 - val_loss: 1.2216 - val_acc: 0.5430\n",
      "Epoch 18/100\n",
      "7/8 [=========================>....] - ETA: 0s - loss: 1.3702 - acc: 0.4810Epoch 1/100\n",
      "8/8 [==============================] - 1s 180ms/step - loss: 1.2757 - acc: 0.4834\n",
      "8/8 [==============================] - 2s 266ms/step - loss: 1.3465 - acc: 0.4893 - val_loss: 1.2757 - val_acc: 0.4834\n",
      "Epoch 19/100\n",
      "7/8 [=========================>....] - ETA: 0s - loss: 1.3322 - acc: 0.4721Epoch 1/100\n",
      "8/8 [==============================] - 1s 162ms/step - loss: 1.2202 - acc: 0.5352\n",
      "8/8 [==============================] - 2s 229ms/step - loss: 1.3279 - acc: 0.4727 - val_loss: 1.2202 - val_acc: 0.5352\n",
      "Epoch 20/100\n",
      "7/8 [=========================>....] - ETA: 0s - loss: 1.2686 - acc: 0.5145Epoch 1/100\n",
      "8/8 [==============================] - 1s 162ms/step - loss: 1.1791 - acc: 0.5508\n",
      "8/8 [==============================] - 2s 228ms/step - loss: 1.2736 - acc: 0.5127 - val_loss: 1.1791 - val_acc: 0.5508\n",
      "Epoch 21/100\n",
      "7/8 [=========================>....] - ETA: 0s - loss: 1.3646 - acc: 0.4587Epoch 1/100\n",
      "8/8 [==============================] - 1s 160ms/step - loss: 1.2338 - acc: 0.5195\n",
      "8/8 [==============================] - 2s 229ms/step - loss: 1.3814 - acc: 0.4492 - val_loss: 1.2338 - val_acc: 0.5195\n",
      "Epoch 22/100\n",
      "7/8 [=========================>....] - ETA: 0s - loss: 1.2814 - acc: 0.5268Epoch 1/100\n",
      "8/8 [==============================] - 1s 162ms/step - loss: 1.1744 - acc: 0.5723\n",
      "8/8 [==============================] - 2s 231ms/step - loss: 1.2834 - acc: 0.5195 - val_loss: 1.1744 - val_acc: 0.5723\n",
      "Epoch 23/100\n",
      "7/8 [=========================>....] - ETA: 0s - loss: 1.2960 - acc: 0.4821Epoch 1/100\n",
      "8/8 [==============================] - 1s 158ms/step - loss: 1.2569 - acc: 0.5068\n",
      "8/8 [==============================] - 2s 227ms/step - loss: 1.2988 - acc: 0.4834 - val_loss: 1.2569 - val_acc: 0.5068\n",
      "Epoch 24/100\n",
      "7/8 [=========================>....] - ETA: 0s - loss: 1.2783 - acc: 0.5078Epoch 1/100\n",
      "8/8 [==============================] - 1s 162ms/step - loss: 1.2133 - acc: 0.5342\n",
      "8/8 [==============================] - 2s 232ms/step - loss: 1.2840 - acc: 0.5059 - val_loss: 1.2133 - val_acc: 0.5342\n",
      "Epoch 25/100\n",
      "7/8 [=========================>....] - ETA: 0s - loss: 1.2137 - acc: 0.5234Epoch 1/100\n",
      "8/8 [==============================] - 1s 164ms/step - loss: 1.2119 - acc: 0.5527\n",
      "8/8 [==============================] - 2s 229ms/step - loss: 1.2470 - acc: 0.5059 - val_loss: 1.2119 - val_acc: 0.5527\n",
      "Epoch 26/100\n",
      "7/8 [=========================>....] - ETA: 0s - loss: 1.2636 - acc: 0.5200Epoch 1/100\n",
      "8/8 [==============================] - 1s 159ms/step - loss: 1.2031 - acc: 0.5381\n",
      "8/8 [==============================] - 2s 221ms/step - loss: 1.2610 - acc: 0.5143 - val_loss: 1.2031 - val_acc: 0.5381\n",
      "Epoch 27/100\n",
      "7/8 [=========================>....] - ETA: 0s - loss: 1.2838 - acc: 0.4911Epoch 1/100\n",
      "8/8 [==============================] - 1s 145ms/step - loss: 1.1691 - acc: 0.5635\n",
      "8/8 [==============================] - 2s 216ms/step - loss: 1.2822 - acc: 0.4873 - val_loss: 1.1691 - val_acc: 0.5635\n",
      "Epoch 28/100\n",
      "7/8 [=========================>....] - ETA: 0s - loss: 1.2671 - acc: 0.5056Epoch 1/100\n",
      "8/8 [==============================] - 1s 166ms/step - loss: 1.2573 - acc: 0.5166\n",
      "8/8 [==============================] - 2s 253ms/step - loss: 1.2653 - acc: 0.5020 - val_loss: 1.2573 - val_acc: 0.5166\n",
      "Epoch 29/100\n",
      "7/8 [=========================>....] - ETA: 0s - loss: 1.2464 - acc: 0.5123Epoch 1/100\n",
      "8/8 [==============================] - 1s 160ms/step - loss: 1.1502 - acc: 0.5762\n",
      "8/8 [==============================] - 2s 228ms/step - loss: 1.2315 - acc: 0.5215 - val_loss: 1.1502 - val_acc: 0.5762\n",
      "Epoch 30/100\n",
      "7/8 [=========================>....] - ETA: 0s - loss: 1.2073 - acc: 0.5458Epoch 1/100\n",
      "8/8 [==============================] - 1s 162ms/step - loss: 1.1208 - acc: 0.5850\n",
      "8/8 [==============================] - 2s 229ms/step - loss: 1.2143 - acc: 0.5371 - val_loss: 1.1208 - val_acc: 0.5850\n",
      "Epoch 31/100\n",
      "7/8 [=========================>....] - ETA: 0s - loss: 1.3281 - acc: 0.4754Epoch 1/100\n",
      "8/8 [==============================] - 1s 163ms/step - loss: 1.1264 - acc: 0.5615\n",
      "8/8 [==============================] - 2s 229ms/step - loss: 1.2955 - acc: 0.4941 - val_loss: 1.1264 - val_acc: 0.5615\n",
      "Epoch 32/100\n",
      "7/8 [=========================>....] - ETA: 0s - loss: 1.2404 - acc: 0.5312Epoch 1/100\n",
      "8/8 [==============================] - 1s 163ms/step - loss: 1.2500 - acc: 0.5342\n",
      "8/8 [==============================] - 2s 228ms/step - loss: 1.2455 - acc: 0.5303 - val_loss: 1.2500 - val_acc: 0.5342\n",
      "Epoch 33/100\n",
      "7/8 [=========================>....] - ETA: 0s - loss: 1.2877 - acc: 0.5022Epoch 1/100\n",
      "8/8 [==============================] - 1s 164ms/step - loss: 1.1318 - acc: 0.5732\n",
      "8/8 [==============================] - 2s 232ms/step - loss: 1.2830 - acc: 0.5039 - val_loss: 1.1318 - val_acc: 0.5732\n",
      "Epoch 34/100\n",
      "7/8 [=========================>....] - ETA: 0s - loss: 1.2096 - acc: 0.5446Epoch 1/100\n",
      "8/8 [==============================] - 1s 157ms/step - loss: 1.1120 - acc: 0.5771\n",
      "8/8 [==============================] - 2s 224ms/step - loss: 1.2018 - acc: 0.5527 - val_loss: 1.1120 - val_acc: 0.5771\n",
      "Epoch 35/100\n",
      "7/8 [=========================>....] - ETA: 0s - loss: 1.2564 - acc: 0.5246Epoch 1/100\n",
      "8/8 [==============================] - 1s 160ms/step - loss: 1.1171 - acc: 0.6016\n",
      "8/8 [==============================] - 2s 227ms/step - loss: 1.2460 - acc: 0.5254 - val_loss: 1.1171 - val_acc: 0.6016\n",
      "Epoch 36/100\n",
      "7/8 [=========================>....] - ETA: 0s - loss: 1.1906 - acc: 0.5324Epoch 1/100\n",
      "8/8 [==============================] - 1s 161ms/step - loss: 1.1760 - acc: 0.5410\n",
      "8/8 [==============================] - 2s 226ms/step - loss: 1.1897 - acc: 0.5312 - val_loss: 1.1760 - val_acc: 0.5410\n",
      "Epoch 37/100\n",
      "7/8 [=========================>....] - ETA: 0s - loss: 1.1699 - acc: 0.5435Epoch 1/100\n",
      "8/8 [==============================] - 2s 189ms/step - loss: 1.1385 - acc: 0.5615\n",
      "8/8 [==============================] - 2s 275ms/step - loss: 1.1722 - acc: 0.5439 - val_loss: 1.1385 - val_acc: 0.5615\n",
      "Epoch 38/100\n",
      "7/8 [=========================>....] - ETA: 0s - loss: 1.2865 - acc: 0.5100Epoch 1/100\n",
      "8/8 [==============================] - 1s 165ms/step - loss: 1.0928 - acc: 0.6006\n",
      "8/8 [==============================] - 2s 232ms/step - loss: 1.2779 - acc: 0.5068 - val_loss: 1.0928 - val_acc: 0.6006\n",
      "Epoch 39/100\n",
      "7/8 [=========================>....] - ETA: 0s - loss: 1.1706 - acc: 0.5447Epoch 1/100\n",
      "8/8 [==============================] - 1s 159ms/step - loss: 1.1398 - acc: 0.5684\n",
      "8/8 [==============================] - 2s 223ms/step - loss: 1.1946 - acc: 0.5409 - val_loss: 1.1398 - val_acc: 0.5684\n",
      "Epoch 40/100\n",
      "7/8 [=========================>....] - ETA: 0s - loss: 1.2098 - acc: 0.5190Epoch 1/100\n",
      "8/8 [==============================] - 1s 160ms/step - loss: 1.1620 - acc: 0.5518\n",
      "8/8 [==============================] - 2s 234ms/step - loss: 1.1974 - acc: 0.5234 - val_loss: 1.1620 - val_acc: 0.5518\n",
      "Epoch 41/100\n",
      "7/8 [=========================>....] - ETA: 0s - loss: 1.2840 - acc: 0.5067Epoch 1/100\n",
      "8/8 [==============================] - 1s 117ms/step - loss: 1.1433 - acc: 0.5732\n",
      "8/8 [==============================] - 2s 189ms/step - loss: 1.2691 - acc: 0.5098 - val_loss: 1.1433 - val_acc: 0.5732\n",
      "Epoch 42/100\n",
      "7/8 [=========================>....] - ETA: 0s - loss: 1.2346 - acc: 0.5112Epoch 1/100\n",
      "8/8 [==============================] - 1s 163ms/step - loss: 1.1106 - acc: 0.6006\n",
      "8/8 [==============================] - 2s 284ms/step - loss: 1.2421 - acc: 0.5107 - val_loss: 1.1106 - val_acc: 0.6006\n",
      "Epoch 43/100\n",
      "7/8 [=========================>....] - ETA: 0s - loss: 1.1745 - acc: 0.5536Epoch 1/100\n",
      "8/8 [==============================] - 1s 163ms/step - loss: 1.0642 - acc: 0.6035\n",
      "8/8 [==============================] - 2s 231ms/step - loss: 1.1763 - acc: 0.5586 - val_loss: 1.0642 - val_acc: 0.6035\n",
      "Epoch 44/100\n",
      "7/8 [=========================>....] - ETA: 0s - loss: 1.2141 - acc: 0.5301Epoch 1/100\n",
      "8/8 [==============================] - 1s 166ms/step - loss: 1.0517 - acc: 0.6123\n",
      "8/8 [==============================] - 2s 235ms/step - loss: 1.2102 - acc: 0.5293 - val_loss: 1.0517 - val_acc: 0.6123\n",
      "Epoch 45/100\n",
      "7/8 [=========================>....] - ETA: 0s - loss: 1.2027 - acc: 0.5259Epoch 1/100\n",
      "8/8 [==============================] - 1s 159ms/step - loss: 1.0576 - acc: 0.5986\n",
      "8/8 [==============================] - 2s 226ms/step - loss: 1.1881 - acc: 0.5378 - val_loss: 1.0576 - val_acc: 0.5986\n",
      "Epoch 46/100\n",
      "7/8 [=========================>....] - ETA: 0s - loss: 1.1620 - acc: 0.5792Epoch 1/100\n",
      "8/8 [==============================] - 1s 161ms/step - loss: 1.0903 - acc: 0.5967\n",
      "8/8 [==============================] - 2s 230ms/step - loss: 1.1792 - acc: 0.5693 - val_loss: 1.0903 - val_acc: 0.5967\n",
      "Epoch 47/100\n",
      "7/8 [=========================>....] - ETA: 0s - loss: 1.1925 - acc: 0.5346Epoch 1/100\n",
      "8/8 [==============================] - 1s 164ms/step - loss: 1.0719 - acc: 0.5947\n",
      "8/8 [==============================] - 2s 231ms/step - loss: 1.1808 - acc: 0.5391 - val_loss: 1.0719 - val_acc: 0.5947\n",
      "Epoch 48/100\n",
      "7/8 [=========================>....] - ETA: 0s - loss: 1.1674 - acc: 0.5636Epoch 1/100\n",
      "8/8 [==============================] - 1s 165ms/step - loss: 1.0769 - acc: 0.5996\n",
      "8/8 [==============================] - 2s 228ms/step - loss: 1.1618 - acc: 0.5742 - val_loss: 1.0769 - val_acc: 0.5996\n",
      "Epoch 49/100\n",
      "7/8 [=========================>....] - ETA: 0s - loss: 1.1553 - acc: 0.5536Epoch 1/100\n",
      "8/8 [==============================] - 1s 159ms/step - loss: 1.1107 - acc: 0.5938\n",
      "8/8 [==============================] - 2s 229ms/step - loss: 1.1730 - acc: 0.5420 - val_loss: 1.1107 - val_acc: 0.5938\n",
      "Epoch 50/100\n",
      "7/8 [=========================>....] - ETA: 0s - loss: 1.1285 - acc: 0.5681Epoch 1/100\n",
      "8/8 [==============================] - 1s 180ms/step - loss: 1.1266 - acc: 0.5576\n",
      "8/8 [==============================] - 2s 268ms/step - loss: 1.1361 - acc: 0.5625 - val_loss: 1.1266 - val_acc: 0.5576\n",
      "Epoch 51/100\n",
      "7/8 [=========================>....] - ETA: 0s - loss: 1.1813 - acc: 0.5502Epoch 1/100\n",
      "8/8 [==============================] - 1s 162ms/step - loss: 1.0835 - acc: 0.5898\n",
      "8/8 [==============================] - 2s 236ms/step - loss: 1.1774 - acc: 0.5518 - val_loss: 1.0835 - val_acc: 0.5898\n",
      "Epoch 52/100\n",
      "7/8 [=========================>....] - ETA: 0s - loss: 1.1820 - acc: 0.5391Epoch 1/100\n",
      "8/8 [==============================] - 1s 161ms/step - loss: 1.1162 - acc: 0.5576\n",
      "8/8 [==============================] - 2s 231ms/step - loss: 1.1733 - acc: 0.5459 - val_loss: 1.1162 - val_acc: 0.5576\n",
      "Epoch 53/100\n",
      "7/8 [=========================>....] - ETA: 0s - loss: 1.1407 - acc: 0.5536Epoch 1/100\n",
      "8/8 [==============================] - 1s 164ms/step - loss: 1.0432 - acc: 0.6191\n",
      "8/8 [==============================] - 2s 238ms/step - loss: 1.1401 - acc: 0.5518 - val_loss: 1.0432 - val_acc: 0.6191\n",
      "Epoch 54/100\n",
      "7/8 [=========================>....] - ETA: 0s - loss: 1.2050 - acc: 0.5279Epoch 1/100\n",
      "8/8 [==============================] - 1s 163ms/step - loss: 1.0304 - acc: 0.6250\n",
      "8/8 [==============================] - 2s 233ms/step - loss: 1.1921 - acc: 0.5293 - val_loss: 1.0304 - val_acc: 0.6250\n",
      "Epoch 55/100\n",
      "7/8 [=========================>....] - ETA: 0s - loss: 1.2244 - acc: 0.5268Epoch 1/100\n",
      "8/8 [==============================] - 1s 158ms/step - loss: 1.0458 - acc: 0.6035\n",
      "8/8 [==============================] - 2s 228ms/step - loss: 1.2145 - acc: 0.5283 - val_loss: 1.0458 - val_acc: 0.6035\n",
      "Epoch 56/100\n",
      "7/8 [=========================>....] - ETA: 0s - loss: 1.1437 - acc: 0.5580Epoch 1/100\n",
      "8/8 [==============================] - 1s 165ms/step - loss: 1.0993 - acc: 0.6064\n",
      "8/8 [==============================] - 2s 239ms/step - loss: 1.1375 - acc: 0.5615 - val_loss: 1.0993 - val_acc: 0.6064\n",
      "Epoch 57/100\n",
      "7/8 [=========================>....] - ETA: 0s - loss: 1.1626 - acc: 0.5658Epoch 1/100\n",
      "8/8 [==============================] - 1s 158ms/step - loss: 1.0849 - acc: 0.5938\n",
      "8/8 [==============================] - 2s 230ms/step - loss: 1.1711 - acc: 0.5654 - val_loss: 1.0849 - val_acc: 0.5938\n",
      "Epoch 58/100\n",
      "7/8 [=========================>....] - ETA: 0s - loss: 1.2013 - acc: 0.5357Epoch 1/100\n",
      "8/8 [==============================] - 1s 160ms/step - loss: 1.1069 - acc: 0.5762\n",
      "8/8 [==============================] - 2s 234ms/step - loss: 1.2125 - acc: 0.5352 - val_loss: 1.1069 - val_acc: 0.5762\n",
      "Epoch 59/100\n",
      "7/8 [=========================>....] - ETA: 0s - loss: 1.1511 - acc: 0.5781Epoch 1/100\n",
      "8/8 [==============================] - 1s 164ms/step - loss: 1.0510 - acc: 0.6094\n",
      "8/8 [==============================] - 2s 232ms/step - loss: 1.1434 - acc: 0.5820 - val_loss: 1.0510 - val_acc: 0.6094\n",
      "Epoch 60/100\n",
      "7/8 [=========================>....] - ETA: 0s - loss: 1.1292 - acc: 0.5670Epoch 1/100\n",
      "8/8 [==============================] - 1s 165ms/step - loss: 1.0964 - acc: 0.5850\n",
      "8/8 [==============================] - 2s 231ms/step - loss: 1.1369 - acc: 0.5645 - val_loss: 1.0964 - val_acc: 0.5850\n",
      "Epoch 61/100\n",
      "7/8 [=========================>....] - ETA: 0s - loss: 1.2052 - acc: 0.5234Epoch 1/100\n",
      "8/8 [==============================] - 1s 160ms/step - loss: 1.0533 - acc: 0.5889\n",
      "8/8 [==============================] - 2s 231ms/step - loss: 1.2035 - acc: 0.5205 - val_loss: 1.0533 - val_acc: 0.5889\n",
      "Epoch 62/100\n",
      "7/8 [=========================>....] - ETA: 0s - loss: 1.1294 - acc: 0.5625Epoch 1/100\n",
      "8/8 [==============================] - 1s 161ms/step - loss: 1.0459 - acc: 0.6221\n",
      "8/8 [==============================] - 2s 230ms/step - loss: 1.1460 - acc: 0.5596 - val_loss: 1.0459 - val_acc: 0.6221\n",
      "Epoch 63/100\n",
      "7/8 [=========================>....] - ETA: 0s - loss: 1.1354 - acc: 0.5636Epoch 1/100\n",
      "8/8 [==============================] - 1s 160ms/step - loss: 1.0229 - acc: 0.6270\n",
      "8/8 [==============================] - 2s 228ms/step - loss: 1.1238 - acc: 0.5732 - val_loss: 1.0229 - val_acc: 0.6270\n",
      "Epoch 64/100\n",
      "7/8 [=========================>....] - ETA: 0s - loss: 1.1119 - acc: 0.5815Epoch 1/100\n",
      "8/8 [==============================] - 1s 163ms/step - loss: 1.1167 - acc: 0.5889\n",
      "8/8 [==============================] - 2s 231ms/step - loss: 1.1210 - acc: 0.5781 - val_loss: 1.1167 - val_acc: 0.5889\n",
      "Epoch 65/100\n",
      "7/8 [=========================>....] - ETA: 0s - loss: 1.1418 - acc: 0.5659Epoch 1/100\n",
      "8/8 [==============================] - 1s 170ms/step - loss: 1.0955 - acc: 0.5801\n",
      "8/8 [==============================] - 2s 231ms/step - loss: 1.1357 - acc: 0.5716 - val_loss: 1.0955 - val_acc: 0.5801\n",
      "Epoch 66/100\n",
      "7/8 [=========================>....] - ETA: 0s - loss: 1.1433 - acc: 0.5368Epoch 1/100\n",
      "8/8 [==============================] - 1s 161ms/step - loss: 1.0170 - acc: 0.6045\n",
      "8/8 [==============================] - 2s 224ms/step - loss: 1.1408 - acc: 0.5381 - val_loss: 1.0170 - val_acc: 0.6045\n",
      "Epoch 67/100\n",
      "7/8 [=========================>....] - ETA: 0s - loss: 1.1468 - acc: 0.5592Epoch 1/100\n",
      "8/8 [==============================] - 1s 159ms/step - loss: 1.0502 - acc: 0.6094\n",
      "8/8 [==============================] - 2s 226ms/step - loss: 1.1280 - acc: 0.5752 - val_loss: 1.0502 - val_acc: 0.6094\n",
      "Epoch 68/100\n",
      "7/8 [=========================>....] - ETA: 0s - loss: 1.1747 - acc: 0.5636Epoch 1/100\n",
      "8/8 [==============================] - 1s 163ms/step - loss: 0.9943 - acc: 0.6328\n",
      "8/8 [==============================] - 2s 234ms/step - loss: 1.1698 - acc: 0.5654 - val_loss: 0.9943 - val_acc: 0.6328\n",
      "Epoch 69/100\n",
      "7/8 [=========================>....] - ETA: 0s - loss: 1.1502 - acc: 0.5592Epoch 1/100\n",
      "8/8 [==============================] - 1s 179ms/step - loss: 1.0119 - acc: 0.6318\n",
      "8/8 [==============================] - 2s 271ms/step - loss: 1.1372 - acc: 0.5625 - val_loss: 1.0119 - val_acc: 0.6318\n",
      "Epoch 70/100\n",
      "7/8 [=========================>....] - ETA: 0s - loss: 1.1402 - acc: 0.5569Epoch 1/100\n",
      "8/8 [==============================] - 1s 163ms/step - loss: 1.0079 - acc: 0.6299\n",
      "8/8 [==============================] - 2s 232ms/step - loss: 1.1223 - acc: 0.5605 - val_loss: 1.0079 - val_acc: 0.6299\n",
      "Epoch 71/100\n",
      "7/8 [=========================>....] - ETA: 0s - loss: 1.2018 - acc: 0.5402Epoch 1/100\n",
      "8/8 [==============================] - 1s 165ms/step - loss: 1.0899 - acc: 0.5889\n",
      "8/8 [==============================] - 2s 233ms/step - loss: 1.2070 - acc: 0.5400 - val_loss: 1.0899 - val_acc: 0.5889\n",
      "Epoch 72/100\n",
      "7/8 [=========================>....] - ETA: 0s - loss: 1.0768 - acc: 0.5837Epoch 1/100\n",
      "8/8 [==============================] - 1s 160ms/step - loss: 1.0348 - acc: 0.6035\n",
      "8/8 [==============================] - 2s 227ms/step - loss: 1.0773 - acc: 0.5840 - val_loss: 1.0348 - val_acc: 0.6035\n",
      "Epoch 73/100\n",
      "7/8 [=========================>....] - ETA: 0s - loss: 1.1449 - acc: 0.5569Epoch 1/100\n",
      "8/8 [==============================] - 1s 161ms/step - loss: 1.0513 - acc: 0.6006\n",
      "8/8 [==============================] - 2s 231ms/step - loss: 1.1366 - acc: 0.5684 - val_loss: 1.0513 - val_acc: 0.6006\n",
      "Epoch 74/100\n",
      "7/8 [=========================>....] - ETA: 0s - loss: 1.1561 - acc: 0.5703Epoch 1/100\n",
      "8/8 [==============================] - 1s 157ms/step - loss: 1.0065 - acc: 0.6172\n",
      "8/8 [==============================] - 2s 223ms/step - loss: 1.1613 - acc: 0.5674 - val_loss: 1.0065 - val_acc: 0.6172\n",
      "Epoch 75/100\n",
      "7/8 [=========================>....] - ETA: 0s - loss: 1.1584 - acc: 0.5837Epoch 1/100\n",
      "8/8 [==============================] - 1s 160ms/step - loss: 0.9982 - acc: 0.6309\n",
      "8/8 [==============================] - 2s 230ms/step - loss: 1.1343 - acc: 0.5947 - val_loss: 0.9982 - val_acc: 0.6309\n",
      "Epoch 76/100\n",
      "7/8 [=========================>....] - ETA: 0s - loss: 1.0990 - acc: 0.5929Epoch 1/100\n",
      "8/8 [==============================] - 1s 171ms/step - loss: 1.0325 - acc: 0.5957\n",
      "8/8 [==============================] - 2s 235ms/step - loss: 1.1107 - acc: 0.5890 - val_loss: 1.0325 - val_acc: 0.5957\n",
      "Epoch 77/100\n",
      "7/8 [=========================>....] - ETA: 0s - loss: 1.0625 - acc: 0.5949Epoch 1/100\n",
      "8/8 [==============================] - 1s 162ms/step - loss: 1.0623 - acc: 0.5869\n",
      "8/8 [==============================] - 2s 233ms/step - loss: 1.0759 - acc: 0.5898 - val_loss: 1.0623 - val_acc: 0.5869\n",
      "Epoch 78/100\n",
      "7/8 [=========================>....] - ETA: 0s - loss: 1.1588 - acc: 0.5491Epoch 1/100\n",
      "8/8 [==============================] - 1s 164ms/step - loss: 0.9862 - acc: 0.6270\n",
      "8/8 [==============================] - 2s 228ms/step - loss: 1.1678 - acc: 0.5459 - val_loss: 0.9862 - val_acc: 0.6270\n",
      "Epoch 79/100\n",
      "7/8 [=========================>....] - ETA: 0s - loss: 1.1226 - acc: 0.5636Epoch 1/100\n",
      "8/8 [==============================] - 1s 160ms/step - loss: 0.9958 - acc: 0.6338\n",
      "8/8 [==============================] - 2s 225ms/step - loss: 1.1244 - acc: 0.5713 - val_loss: 0.9958 - val_acc: 0.6338\n",
      "Epoch 80/100\n",
      "7/8 [=========================>....] - ETA: 0s - loss: 1.1658 - acc: 0.5759Epoch 1/100\n",
      "8/8 [==============================] - 1s 162ms/step - loss: 0.9977 - acc: 0.6406\n",
      "8/8 [==============================] - 2s 231ms/step - loss: 1.1678 - acc: 0.5703 - val_loss: 0.9977 - val_acc: 0.6406\n",
      "Epoch 81/100\n",
      "7/8 [=========================>....] - ETA: 0s - loss: 1.0844 - acc: 0.5848Epoch 1/100\n",
      "8/8 [==============================] - 1s 162ms/step - loss: 0.9774 - acc: 0.6260\n",
      "8/8 [==============================] - 2s 229ms/step - loss: 1.0658 - acc: 0.5928 - val_loss: 0.9774 - val_acc: 0.6260\n",
      "Epoch 82/100\n",
      "7/8 [=========================>....] - ETA: 0s - loss: 1.0810 - acc: 0.5725Epoch 1/100\n",
      "8/8 [==============================] - 1s 172ms/step - loss: 1.1046 - acc: 0.5801\n",
      "8/8 [==============================] - 2s 248ms/step - loss: 1.1017 - acc: 0.5635 - val_loss: 1.1046 - val_acc: 0.5801\n",
      "Epoch 83/100\n",
      "7/8 [=========================>....] - ETA: 0s - loss: 1.0988 - acc: 0.5926Epoch 1/100\n",
      "8/8 [==============================] - 1s 163ms/step - loss: 0.9781 - acc: 0.6465\n",
      "8/8 [==============================] - 2s 257ms/step - loss: 1.0880 - acc: 0.5957 - val_loss: 0.9781 - val_acc: 0.6465\n",
      "Epoch 84/100\n",
      "7/8 [=========================>....] - ETA: 0s - loss: 1.0993 - acc: 0.5792Epoch 1/100\n",
      "8/8 [==============================] - 1s 163ms/step - loss: 0.9710 - acc: 0.6289\n",
      "8/8 [==============================] - 2s 230ms/step - loss: 1.0861 - acc: 0.5840 - val_loss: 0.9710 - val_acc: 0.6289\n",
      "Epoch 85/100\n",
      "7/8 [=========================>....] - ETA: 0s - loss: 1.0967 - acc: 0.5748Epoch 1/100\n",
      "8/8 [==============================] - 1s 159ms/step - loss: 1.0013 - acc: 0.6270\n",
      "8/8 [==============================] - 2s 227ms/step - loss: 1.0905 - acc: 0.5869 - val_loss: 1.0013 - val_acc: 0.6270\n",
      "Epoch 86/100\n",
      "7/8 [=========================>....] - ETA: 0s - loss: 1.0631 - acc: 0.5915Epoch 1/100\n",
      "8/8 [==============================] - 1s 161ms/step - loss: 1.0046 - acc: 0.6123\n",
      "8/8 [==============================] - 2s 230ms/step - loss: 1.0524 - acc: 0.6016 - val_loss: 1.0046 - val_acc: 0.6123\n",
      "Epoch 87/100\n",
      "7/8 [=========================>....] - ETA: 0s - loss: 1.1377 - acc: 0.5458Epoch 1/100\n",
      "8/8 [==============================] - 1s 162ms/step - loss: 1.0676 - acc: 0.5938\n",
      "8/8 [==============================] - 2s 230ms/step - loss: 1.1430 - acc: 0.5449 - val_loss: 1.0676 - val_acc: 0.5938\n",
      "Epoch 88/100\n",
      "7/8 [=========================>....] - ETA: 0s - loss: 1.1241 - acc: 0.5603Epoch 1/100\n",
      "8/8 [==============================] - 1s 160ms/step - loss: 0.9594 - acc: 0.6455\n",
      "8/8 [==============================] - 2s 225ms/step - loss: 1.1015 - acc: 0.5713 - val_loss: 0.9594 - val_acc: 0.6455\n",
      "Epoch 89/100\n",
      "7/8 [=========================>....] - ETA: 0s - loss: 1.0960 - acc: 0.5871Epoch 1/100\n",
      "8/8 [==============================] - 1s 160ms/step - loss: 1.0655 - acc: 0.5811\n",
      "8/8 [==============================] - 2s 230ms/step - loss: 1.0983 - acc: 0.5791 - val_loss: 1.0655 - val_acc: 0.5811\n",
      "Epoch 90/100\n",
      "7/8 [=========================>....] - ETA: 0s - loss: 1.0823 - acc: 0.5804Epoch 1/100\n",
      "8/8 [==============================] - 1s 159ms/step - loss: 1.0171 - acc: 0.6162\n",
      "8/8 [==============================] - 2s 228ms/step - loss: 1.0707 - acc: 0.5850 - val_loss: 1.0171 - val_acc: 0.6162\n",
      "Epoch 91/100\n",
      "7/8 [=========================>....] - ETA: 0s - loss: 1.0499 - acc: 0.5982Epoch 1/100\n",
      "8/8 [==============================] - 1s 159ms/step - loss: 1.0201 - acc: 0.6084\n",
      "8/8 [==============================] - 2s 225ms/step - loss: 1.0658 - acc: 0.6016 - val_loss: 1.0201 - val_acc: 0.6084\n",
      "Epoch 92/100\n",
      "7/8 [=========================>....] - ETA: 0s - loss: 1.1115 - acc: 0.5788Epoch 1/100\n",
      "8/8 [==============================] - 1s 162ms/step - loss: 1.0168 - acc: 0.6250\n",
      "8/8 [==============================] - 2s 224ms/step - loss: 1.1187 - acc: 0.5736 - val_loss: 1.0168 - val_acc: 0.6250\n",
      "Epoch 93/100\n",
      "7/8 [=========================>....] - ETA: 0s - loss: 1.1268 - acc: 0.5792Epoch 1/100\n",
      "8/8 [==============================] - 1s 159ms/step - loss: 1.0679 - acc: 0.6025\n",
      "8/8 [==============================] - 2s 230ms/step - loss: 1.1327 - acc: 0.5703 - val_loss: 1.0679 - val_acc: 0.6025\n",
      "Epoch 94/100\n",
      "7/8 [=========================>....] - ETA: 0s - loss: 1.0613 - acc: 0.5837Epoch 1/100\n",
      "8/8 [==============================] - 1s 161ms/step - loss: 1.0945 - acc: 0.5869\n",
      "8/8 [==============================] - 2s 230ms/step - loss: 1.0683 - acc: 0.5791 - val_loss: 1.0945 - val_acc: 0.5869\n",
      "Epoch 95/100\n",
      "7/8 [=========================>....] - ETA: 0s - loss: 1.0872 - acc: 0.5759Epoch 1/100\n",
      "8/8 [==============================] - 1s 159ms/step - loss: 0.9699 - acc: 0.6396\n",
      "8/8 [==============================] - 2s 229ms/step - loss: 1.1001 - acc: 0.5752 - val_loss: 0.9699 - val_acc: 0.6396\n",
      "Epoch 96/100\n",
      "7/8 [=========================>....] - ETA: 0s - loss: 1.0499 - acc: 0.6060Epoch 1/100\n",
      "8/8 [==============================] - 1s 119ms/step - loss: 0.9950 - acc: 0.6094\n",
      "8/8 [==============================] - 2s 189ms/step - loss: 1.0501 - acc: 0.6123 - val_loss: 0.9950 - val_acc: 0.6094\n",
      "Epoch 97/100\n",
      "7/8 [=========================>....] - ETA: 0s - loss: 1.0810 - acc: 0.5792Epoch 1/100\n",
      "8/8 [==============================] - 1s 161ms/step - loss: 1.0001 - acc: 0.6348\n",
      "8/8 [==============================] - 2s 282ms/step - loss: 1.0904 - acc: 0.5703 - val_loss: 1.0001 - val_acc: 0.6348\n",
      "Epoch 98/100\n",
      "7/8 [=========================>....] - ETA: 0s - loss: 1.0600 - acc: 0.6004Epoch 1/100\n",
      "8/8 [==============================] - 1s 162ms/step - loss: 1.0273 - acc: 0.6035\n",
      "8/8 [==============================] - 2s 237ms/step - loss: 1.0557 - acc: 0.6064 - val_loss: 1.0273 - val_acc: 0.6035\n",
      "Epoch 99/100\n",
      "7/8 [=========================>....] - ETA: 0s - loss: 1.1571 - acc: 0.5714Epoch 1/100\n",
      "8/8 [==============================] - 1s 165ms/step - loss: 0.9517 - acc: 0.6523\n",
      "8/8 [==============================] - 2s 234ms/step - loss: 1.1531 - acc: 0.5732 - val_loss: 0.9517 - val_acc: 0.6523\n",
      "Epoch 100/100\n",
      "7/8 [=========================>....] - ETA: 0s - loss: 1.0997 - acc: 0.5815Epoch 1/100\n",
      "8/8 [==============================] - 1s 161ms/step - loss: 0.9547 - acc: 0.6543\n",
      "8/8 [==============================] - 2s 229ms/step - loss: 1.0992 - acc: 0.5713 - val_loss: 0.9547 - val_acc: 0.6543\n"
     ]
    }
   ],
   "source": [
    "history = model.fit_generator(\n",
    "      train_generator,\n",
    "      steps_per_epoch=8,  \n",
    "      epochs=100,\n",
    "      verbose=1,\n",
    "      validation_data = test_generator,\n",
    "      validation_steps=8)"
   ]
  },
  {
   "cell_type": "code",
   "execution_count": 96,
   "metadata": {
    "colab": {
     "base_uri": "https://localhost:8080/",
     "height": 545
    },
    "colab_type": "code",
    "id": "mAB_sv_zUxxL",
    "outputId": "b9817e4a-c933-46b0-baf1-57c0c7ae5eb7"
   },
   "outputs": [
    {
     "data": {
      "image/png": "[encoded data removed]",
      "text/plain": [
       "<Figure size 432x288 with 1 Axes>"
      ]
     },
     "metadata": {
      "tags": []
     },
     "output_type": "display_data"
    },
    {
     "data": {
      "image/png": "[encoded data removed]",
      "text/plain": [
       "<Figure size 432x288 with 1 Axes>"
      ]
     },
     "metadata": {
      "tags": []
     },
     "output_type": "display_data"
    }
   ],
   "source": [
    "import matplotlib.pyplot as plt\n",
    "acc = history.history['acc']\n",
    "val_acc = history.history['val_acc']\n",
    "loss = history.history['loss']\n",
    "val_loss = history.history['val_loss']\n",
    "\n",
    "epochs = range(len(acc))\n",
    "\n",
    "plt.plot(epochs, acc, 'r', label='Training accuracy')\n",
    "plt.plot(epochs, val_acc, 'b', label='Validation accuracy')\n",
    "plt.title('Training and validation accuracy')\n",
    "plt.legend()\n",
    "plt.figure()\n",
    "\n",
    "plt.plot(epochs, loss, 'r', label='Training Loss')\n",
    "plt.plot(epochs, val_loss, 'b', label='Validation Loss')\n",
    "plt.title('Training and validation loss')\n",
    "plt.legend()\n",
    "\n",
    "plt.show()"
   ]
  },
  {
   "cell_type": "code",
   "execution_count": 0,
   "metadata": {
    "colab": {},
    "colab_type": "code",
    "id": "BUQR-0KQYEnr"
   },
   "outputs": [],
   "source": []
  }
 ],
 "metadata": {
  "accelerator": "GPU",
  "colab": {
   "collapsed_sections": [],
   "name": "Intel Image Classification- LeNet5.ipynb",
   "provenance": []
  },
  "kernelspec": {
   "display_name": "Python 3",
   "language": "python",
   "name": "python3"
  },
  "language_info": {
   "codemirror_mode": {
    "name": "ipython",
    "version": 3
   },
   "file_extension": ".py",
   "mimetype": "text/x-python",
   "name": "python",
   "nbconvert_exporter": "python",
   "pygments_lexer": "ipython3",
   "version": "3.7.3"
  },
  "widgets": {
   "application/vnd.jupyter.widget-state+json": {
    "state": {},
    "version_major": 2,
    "version_minor": 0
   }
  }
 },
 "nbformat": 4,
 "nbformat_minor": 1
}
