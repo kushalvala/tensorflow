{
  "nbformat": 4,
  "nbformat_minor": 0,
  "metadata": {
    "kernelspec": {
      "name": "python3",
      "display_name": "Python 3"
    },
    "language_info": {
      "codemirror_mode": {
        "name": "ipython",
        "version": 3
      },
      "file_extension": ".py",
      "mimetype": "text/x-python",
      "name": "python",
      "nbconvert_exporter": "python",
      "pygments_lexer": "ipython3",
      "version": "3.7.3"
    },
    "colab": {
      "name": "Pneumonia Detection- TensorFlow.ipynb",
      "provenance": []
    },
    "accelerator": "GPU"
  },
  "cells": [
    {
      "cell_type": "code",
      "metadata": {
        "id": "DryB_bbqLLoA",
        "colab_type": "code",
        "outputId": "38827a7d-4d0a-4b90-a61e-d4c1ee5b485d",
        "colab": {
          "base_uri": "https://localhost:8080/",
          "height": 63
        }
      },
      "source": [
        "import tensorflow as tf\n",
        "import numpy as np\n",
        "import os"
      ],
      "execution_count": 0,
      "outputs": [
        {
          "output_type": "display_data",
          "data": {
            "text/html": [
              "<p style=\"color: red;\">\n",
              "The default version of TensorFlow in Colab will soon switch to TensorFlow 2.x.<br>\n",
              "We recommend you <a href=\"https://www.tensorflow.org/guide/migrate\" target=\"_blank\">upgrade</a> now \n",
              "or ensure your notebook will continue to use TensorFlow 1.x via the <code>%tensorflow_version 1.x</code> magic:\n",
              "<a href=\"https://colab.research.google.com/notebooks/tensorflow_version.ipynb\" target=\"_blank\">more info</a>.</p>\n"
            ],
            "text/plain": [
              "<IPython.core.display.HTML object>"
            ]
          },
          "metadata": {
            "tags": []
          }
        }
      ]
    },
    {
      "cell_type": "code",
      "metadata": {
        "id": "hj0uJTGOLLoM",
        "colab_type": "code",
        "colab": {}
      },
      "source": [
        "# Reading the directory - Train and Validation Set\n",
        "\n",
        "train_pneumonia_data = os.path.join('/content/chest_xray/train/PNEUMONIA')\n",
        "train_normal_data = os.path.join('/content/chest_xray/train/NORMAL')\n",
        "\n",
        "test_pneumonia_data = os.path.join('/content/chest_xray/test/PNEUMONIA')\n",
        "test_normal_data = os.path.join('/content/chest_xray/test/NORMAL')"
      ],
      "execution_count": 0,
      "outputs": []
    },
    {
      "cell_type": "code",
      "metadata": {
        "id": "IFPhhtq4LLoW",
        "colab_type": "code",
        "outputId": "804906a1-c645-4259-8f6f-026bd8bcf02f",
        "colab": {
          "base_uri": "https://localhost:8080/",
          "height": 71
        }
      },
      "source": [
        "# Lets look at the images in train dataset\n",
        "\n",
        "train_pneumonia_names = os.listdir(train_pneumonia_data)\n",
        "\n",
        "print(train_pneumonia_names[:10])\n",
        "\n",
        "train_normal_names = os.listdir(train_normal_data)\n",
        "\n",
        "print(train_normal_names[:10])"
      ],
      "execution_count": 0,
      "outputs": [
        {
          "output_type": "stream",
          "text": [
            "['person585_bacteria_2416.jpeg', 'person1638_bacteria_4341.jpeg', 'person1101_bacteria_3042.jpeg', 'person565_bacteria_2348.jpeg', 'person688_bacteria_2584.jpeg', 'person938_bacteria_2863.jpeg', 'person143_virus_289.jpeg', 'person498_bacteria_2101.jpeg', 'person1446_bacteria_3739.jpeg', 'person1168_virus_1966.jpeg']\n",
            "['NORMAL2-IM-0868-0001.jpeg', 'NORMAL2-IM-0897-0001.jpeg', 'IM-0629-0001-0002.jpeg', 'IM-0410-0001.jpeg', 'NORMAL2-IM-1290-0001.jpeg', 'NORMAL2-IM-0450-0001.jpeg', 'NORMAL2-IM-0653-0001.jpeg', 'NORMAL2-IM-0525-0001.jpeg', 'IM-0306-0001.jpeg', 'NORMAL2-IM-1155-0001.jpeg']\n"
          ],
          "name": "stdout"
        }
      ]
    },
    {
      "cell_type": "code",
      "metadata": {
        "id": "U0vdMLxuLLof",
        "colab_type": "code",
        "outputId": "17c91585-cb83-4a9b-fa8d-1a9847d9aab5",
        "colab": {
          "base_uri": "https://localhost:8080/",
          "height": 51
        }
      },
      "source": [
        "print('Total training Pneumonia detected images:', len(os.listdir(train_pneumonia_data)))\n",
        "print('Total training Normal detected images:', len(os.listdir(train_normal_data)))"
      ],
      "execution_count": 0,
      "outputs": [
        {
          "output_type": "stream",
          "text": [
            "Total training Pneumonia detected images: 3875\n",
            "Total training Normal detected images: 1341\n"
          ],
          "name": "stdout"
        }
      ]
    },
    {
      "cell_type": "code",
      "metadata": {
        "id": "1MchjgzgNawc",
        "colab_type": "code",
        "colab": {}
      },
      "source": [
        "from tensorflow.keras.preprocessing.image import ImageDataGenerator\n",
        "\n",
        "TRAIN_DIR = '/content/chest_xray/train/' \n",
        "VAL_DIR = '/content/chest_xray/val/'\n",
        "TEST_DIR = '/content/chest_xray/test/'\n",
        "# All images will be rescaled by 1./255\n",
        "\n",
        "train_datagen = ImageDataGenerator(\n",
        "      rescale=1./255,\n",
        "      rotation_range=20,\n",
        "      width_shift_range=0.2,\n",
        "      height_shift_range=0.2,\n",
        "      shear_range=0.2,\n",
        "      zoom_range=0.2,\n",
        "      horizontal_flip=True,\n",
        "      fill_mode='nearest'\n",
        "      )\n",
        "\n",
        "test_datagen = ImageDataGenerator(rescale=1./255)"
      ],
      "execution_count": 0,
      "outputs": []
    },
    {
      "cell_type": "code",
      "metadata": {
        "id": "4sAZVXVfN6r1",
        "colab_type": "code",
        "outputId": "bd190371-195a-43d7-84e1-851640feddc8",
        "colab": {
          "base_uri": "https://localhost:8080/",
          "height": 51
        }
      },
      "source": [
        "train_generator = train_datagen.flow_from_directory(\n",
        "    directory = TRAIN_DIR,\n",
        "    target_size=(299,299),\n",
        "    batch_size = 256,\n",
        "    class_mode = 'binary'\n",
        ")\n",
        "\n",
        "test_generator = test_datagen.flow_from_directory(\n",
        "    directory = TEST_DIR,\n",
        "    target_size = (299,299),\n",
        "    batch_size = 256,\n",
        "    class_mode = 'binary'\n",
        ")"
      ],
      "execution_count": 0,
      "outputs": [
        {
          "output_type": "stream",
          "text": [
            "Found 5216 images belonging to 2 classes.\n",
            "Found 624 images belonging to 2 classes.\n"
          ],
          "name": "stdout"
        }
      ]
    },
    {
      "cell_type": "code",
      "metadata": {
        "id": "7PNTJ-AWLLo-",
        "colab_type": "code",
        "colab": {}
      },
      "source": [
        "# Model Building:\n",
        "\n",
        "inputs = tf.keras.layers.Input(shape = (299,299,3))\n",
        "\n",
        "#CONVO-1\n",
        "\n",
        "conv1 = tf.keras.layers.Conv2D(filters= 128, kernel_size=(3,3), strides= (2,2), padding= 'same', activation='relu')(inputs)\n",
        "maxpool1 = tf.keras.layers.MaxPooling2D(pool_size=(2,2),strides= 2 , padding='same')(conv1)\n",
        "dropout1 = tf.keras.layers.Dropout(0.2)(maxpool1)\n",
        "\n",
        "# CONVO-2\n",
        "\n",
        "conv2 = tf.keras.layers.Conv2D(filters= 246, kernel_size=(3,3), strides= (2,2), padding= 'same', activation='relu')(dropout1)\n",
        "maxpool2 = tf.keras.layers.MaxPooling2D(pool_size=(4,4),strides= 2 , padding='same')(conv2)\n",
        "dropout2 = tf.keras.layers.Dropout(0.2)(maxpool2)\n",
        "\n",
        "\n",
        "#FLATTEN\n",
        "\n",
        "flatten = tf.keras.layers.Flatten()(dropout2)\n",
        "dense1 = tf.keras.layers.Dense(1024, activation= 'relu')(flatten)\n",
        "dropout3 = tf.keras.layers.Dropout(0.2)(dense1)\n",
        "output = tf.keras.layers.Dense(1 , activation= 'sigmoid')(dropout3)"
      ],
      "execution_count": 0,
      "outputs": []
    },
    {
      "cell_type": "code",
      "metadata": {
        "id": "NRA8_nmTZ-YO",
        "colab_type": "code",
        "colab": {}
      },
      "source": [
        "model = tf.keras.Model(inputs=inputs, outputs=output)"
      ],
      "execution_count": 0,
      "outputs": []
    },
    {
      "cell_type": "code",
      "metadata": {
        "id": "xaTAaIBCLLpD",
        "colab_type": "code",
        "outputId": "26d4fa6e-8a89-4959-c063-4a4236e6ed8c",
        "colab": {
          "base_uri": "https://localhost:8080/",
          "height": 527
        }
      },
      "source": [
        "model.summary()"
      ],
      "execution_count": 0,
      "outputs": [
        {
          "output_type": "stream",
          "text": [
            "Model: \"model_1\"\n",
            "_________________________________________________________________\n",
            "Layer (type)                 Output Shape              Param #   \n",
            "=================================================================\n",
            "input_2 (InputLayer)         [(None, 299, 299, 3)]     0         \n",
            "_________________________________________________________________\n",
            "conv2d_2 (Conv2D)            (None, 150, 150, 128)     3584      \n",
            "_________________________________________________________________\n",
            "max_pooling2d_2 (MaxPooling2 (None, 75, 75, 128)       0         \n",
            "_________________________________________________________________\n",
            "dropout_3 (Dropout)          (None, 75, 75, 128)       0         \n",
            "_________________________________________________________________\n",
            "conv2d_3 (Conv2D)            (None, 38, 38, 246)       283638    \n",
            "_________________________________________________________________\n",
            "max_pooling2d_3 (MaxPooling2 (None, 19, 19, 246)       0         \n",
            "_________________________________________________________________\n",
            "dropout_4 (Dropout)          (None, 19, 19, 246)       0         \n",
            "_________________________________________________________________\n",
            "flatten_1 (Flatten)          (None, 88806)             0         \n",
            "_________________________________________________________________\n",
            "dense_2 (Dense)              (None, 1024)              90938368  \n",
            "_________________________________________________________________\n",
            "dropout_5 (Dropout)          (None, 1024)              0         \n",
            "_________________________________________________________________\n",
            "dense_3 (Dense)              (None, 1)                 1025      \n",
            "=================================================================\n",
            "Total params: 91,226,615\n",
            "Trainable params: 91,226,615\n",
            "Non-trainable params: 0\n",
            "_________________________________________________________________\n"
          ],
          "name": "stdout"
        }
      ]
    },
    {
      "cell_type": "code",
      "metadata": {
        "id": "y8Akn3jsLLpH",
        "colab_type": "code",
        "outputId": "e7df2f7a-ca5d-4eea-a5fe-be70a395c324",
        "colab": {
          "base_uri": "https://localhost:8080/",
          "height": 88
        }
      },
      "source": [
        "from tensorflow.keras.optimizers import Adagrad\n",
        "\n",
        "model.compile(loss= 'binary_crossentropy' , optimizer= Adagrad(learning_rate=0.01) , metrics= ['acc'])"
      ],
      "execution_count": 0,
      "outputs": [
        {
          "output_type": "stream",
          "text": [
            "WARNING:tensorflow:From /usr/local/lib/python3.6/dist-packages/tensorflow_core/python/ops/nn_impl.py:183: where (from tensorflow.python.ops.array_ops) is deprecated and will be removed in a future version.\n",
            "Instructions for updating:\n",
            "Use tf.where in 2.0, which has the same broadcast rule as np.where\n"
          ],
          "name": "stdout"
        }
      ]
    },
    {
      "cell_type": "code",
      "metadata": {
        "id": "fj4OuamVLLpY",
        "colab_type": "code",
        "outputId": "3a4f6a15-2f1d-46c2-c56e-7832637a5734",
        "colab": {
          "base_uri": "https://localhost:8080/",
          "height": 598
        }
      },
      "source": [
        "history = model.fit_generator(\n",
        "      train_generator,\n",
        "      steps_per_epoch=10,  \n",
        "      epochs=10,\n",
        "      verbose=1,\n",
        "      validation_data = test_generator,\n",
        "      validation_steps=5)"
      ],
      "execution_count": 0,
      "outputs": [
        {
          "output_type": "stream",
          "text": [
            "Epoch 1/10\n",
            "WARNING:tensorflow:From /usr/local/lib/python3.6/dist-packages/tensorflow_core/python/keras/optimizer_v2/adagrad.py:107: calling Constant.__init__ (from tensorflow.python.ops.init_ops) with dtype is deprecated and will be removed in a future version.\n",
            "Instructions for updating:\n",
            "Call initializer instance with the dtype argument instead of passing it to the constructor\n",
            " 9/10 [==========================>...] - ETA: 8s - loss: 0.6157 - acc: 0.7023 Epoch 1/10\n",
            "10/10 [==============================] - 101s 10s/step - loss: 0.6114 - acc: 0.7055 - val_loss: 0.6709 - val_acc: 0.6250\n",
            "Epoch 2/10\n",
            " 9/10 [==========================>...] - ETA: 6s - loss: 0.5765 - acc: 0.7397 Epoch 1/10\n",
            "10/10 [==============================] - 77s 8s/step - loss: 0.5761 - acc: 0.7387 - val_loss: 0.6684 - val_acc: 0.6338\n",
            "Epoch 3/10\n",
            " 9/10 [==========================>...] - ETA: 6s - loss: 0.5466 - acc: 0.7491 Epoch 1/10\n",
            "10/10 [==============================] - 86s 9s/step - loss: 0.5451 - acc: 0.7488 - val_loss: 0.6842 - val_acc: 0.6232\n",
            "Epoch 4/10\n",
            " 9/10 [==========================>...] - ETA: 6s - loss: 0.5513 - acc: 0.7495 Epoch 1/10\n",
            "10/10 [==============================] - 80s 8s/step - loss: 0.5555 - acc: 0.7454 - val_loss: 0.6665 - val_acc: 0.6276\n",
            "Epoch 5/10\n",
            " 9/10 [==========================>...] - ETA: 6s - loss: 0.5561 - acc: 0.7383 Epoch 1/10\n",
            "10/10 [==============================] - 85s 9s/step - loss: 0.5530 - acc: 0.7395 - val_loss: 0.6741 - val_acc: 0.6285\n",
            "Epoch 6/10\n",
            " 9/10 [==========================>...] - ETA: 5s - loss: 0.5497 - acc: 0.7430 Epoch 1/10\n",
            "10/10 [==============================] - 79s 8s/step - loss: 0.5474 - acc: 0.7450 - val_loss: 0.6792 - val_acc: 0.6162\n",
            "Epoch 7/10\n",
            " 9/10 [==========================>...] - ETA: 6s - loss: 0.5344 - acc: 0.7565 Epoch 1/10\n",
            "10/10 [==============================] - 81s 8s/step - loss: 0.5369 - acc: 0.7531 - val_loss: 0.6595 - val_acc: 0.6197\n",
            "Epoch 8/10\n",
            " 9/10 [==========================>...] - ETA: 5s - loss: 0.5341 - acc: 0.7379 Epoch 1/10\n",
            "10/10 [==============================] - 76s 8s/step - loss: 0.5290 - acc: 0.7429 - val_loss: 0.6844 - val_acc: 0.6153\n",
            "Epoch 9/10\n",
            " 9/10 [==========================>...] - ETA: 5s - loss: 0.5204 - acc: 0.7528 Epoch 1/10\n",
            "10/10 [==============================] - 75s 8s/step - loss: 0.5201 - acc: 0.7521 - val_loss: 0.6603 - val_acc: 0.6162\n",
            "Epoch 10/10\n",
            " 9/10 [==========================>...] - ETA: 6s - loss: 0.5364 - acc: 0.7387 Epoch 1/10\n",
            "10/10 [==============================] - 80s 8s/step - loss: 0.5329 - acc: 0.7410 - val_loss: 0.6514 - val_acc: 0.6303\n"
          ],
          "name": "stdout"
        }
      ]
    },
    {
      "cell_type": "code",
      "metadata": {
        "id": "1YOLVAUyLLpb",
        "colab_type": "code",
        "outputId": "61a2219c-e5d8-443b-8e2f-55f27fa6eadc",
        "colab": {
          "base_uri": "https://localhost:8080/",
          "height": 545
        }
      },
      "source": [
        "import matplotlib.pyplot as plt\n",
        "acc = history.history['acc']\n",
        "val_acc = history.history['val_acc']\n",
        "loss = history.history['loss'] \n",
        "val_loss = history.history['val_loss']\n",
        "\n",
        "epochs = range(len(acc))\n",
        "\n",
        "plt.plot(epochs, acc, 'r', label='Training accuracy')\n",
        "plt.plot(epochs, val_acc, 'b', label='Validation accuracy')\n",
        "plt.title('Training and validation accuracy')\n",
        "\n",
        "plt.figure()\n",
        "\n",
        "plt.plot(epochs, loss, 'r', label='Training Loss')\n",
        "plt.plot(epochs, val_loss, 'b', label='Validation Loss')\n",
        "plt.title('Training and validation loss')\n",
        "plt.legend()\n",
        "\n",
        "plt.show()"
      ],
      "execution_count": 0,
      "outputs": [
        {
          "output_type": "display_data",
          "data": {
            "image/png": "[encoded data removed]",
            "text/plain": [
              "<Figure size 432x288 with 1 Axes>"
            ]
          },
          "metadata": {
            "tags": []
          }
        },
        {
          "output_type": "display_data",
          "data": {
            "image/png": "[encoded data removed]",
            "text/plain": [
              "<Figure size 432x288 with 1 Axes>"
            ]
          },
          "metadata": {
            "tags": []
          }
        }
      ]
    },
    {
      "cell_type": "code",
      "metadata": {
        "id": "bTusC0zgLLpf",
        "colab_type": "code",
        "colab": {}
      },
      "source": [
        ""
      ],
      "execution_count": 0,
      "outputs": []
    }
  ]
}